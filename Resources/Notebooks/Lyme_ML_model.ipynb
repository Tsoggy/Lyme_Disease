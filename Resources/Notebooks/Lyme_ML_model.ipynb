{
 "cells": [
  {
   "cell_type": "code",
   "execution_count": 1,
   "id": "2e295be0",
   "metadata": {},
   "outputs": [],
   "source": [
    "import warnings\n",
    "warnings.filterwarnings('ignore')"
   ]
  },
  {
   "cell_type": "code",
   "execution_count": 2,
   "id": "e3e5a376",
   "metadata": {},
   "outputs": [],
   "source": [
    "# Import Dependencies \n",
    "import numpy as np\n",
    "import pandas as pd\n",
    "from pathlib import Path\n",
    "from collections import Counter\n",
    "from sklearn.preprocessing import StandardScaler\n",
    "from sklearn.metrics import balanced_accuracy_score\n",
    "from sklearn.metrics import confusion_matrix\n",
    "from imblearn.metrics import classification_report_imbalanced\n",
    "import pickle"
   ]
  },
  {
   "cell_type": "markdown",
   "id": "0a28cf88",
   "metadata": {},
   "source": [
    "## Preprocess"
   ]
  },
  {
   "cell_type": "code",
   "execution_count": 3,
   "id": "212a906c",
   "metadata": {},
   "outputs": [],
   "source": [
    "# Read in files\n",
    "\n",
    "file_path = 'Data/Cleaned_Data/'"
   ]
  },
  {
   "cell_type": "code",
   "execution_count": 4,
   "id": "66b13f07",
   "metadata": {
    "scrolled": true
   },
   "outputs": [
    {
     "name": "stdout",
     "output_type": "stream",
     "text": [
      "(3142, 10)\n"
     ]
    },
    {
     "data": {
      "text/html": [
       "<div>\n",
       "<style scoped>\n",
       "    .dataframe tbody tr th:only-of-type {\n",
       "        vertical-align: middle;\n",
       "    }\n",
       "\n",
       "    .dataframe tbody tr th {\n",
       "        vertical-align: top;\n",
       "    }\n",
       "\n",
       "    .dataframe thead th {\n",
       "        text-align: right;\n",
       "    }\n",
       "</style>\n",
       "<table border=\"1\" class=\"dataframe\">\n",
       "  <thead>\n",
       "    <tr style=\"text-align: right;\">\n",
       "      <th></th>\n",
       "      <th>Unnamed: 0</th>\n",
       "      <th>FIPS</th>\n",
       "      <th>State</th>\n",
       "      <th>County</th>\n",
       "      <th>Lifespan_Rank</th>\n",
       "      <th>Life_Quality_Rank</th>\n",
       "      <th>Health_Behaviors_Rank</th>\n",
       "      <th>Clinical_Care_Rank</th>\n",
       "      <th>Social_Economic_Factors_Rank</th>\n",
       "      <th>Physical_Environment_Rank</th>\n",
       "    </tr>\n",
       "  </thead>\n",
       "  <tbody>\n",
       "    <tr>\n",
       "      <th>0</th>\n",
       "      <td>1</td>\n",
       "      <td>1001</td>\n",
       "      <td>Alabama</td>\n",
       "      <td>Autauga</td>\n",
       "      <td>8</td>\n",
       "      <td>5</td>\n",
       "      <td>15</td>\n",
       "      <td>14</td>\n",
       "      <td>5</td>\n",
       "      <td>50</td>\n",
       "    </tr>\n",
       "    <tr>\n",
       "      <th>1</th>\n",
       "      <td>2</td>\n",
       "      <td>1003</td>\n",
       "      <td>Alabama</td>\n",
       "      <td>Baldwin</td>\n",
       "      <td>3</td>\n",
       "      <td>4</td>\n",
       "      <td>3</td>\n",
       "      <td>4</td>\n",
       "      <td>3</td>\n",
       "      <td>62</td>\n",
       "    </tr>\n",
       "    <tr>\n",
       "      <th>2</th>\n",
       "      <td>3</td>\n",
       "      <td>1005</td>\n",
       "      <td>Alabama</td>\n",
       "      <td>Barbour</td>\n",
       "      <td>14</td>\n",
       "      <td>48</td>\n",
       "      <td>53</td>\n",
       "      <td>30</td>\n",
       "      <td>61</td>\n",
       "      <td>32</td>\n",
       "    </tr>\n",
       "    <tr>\n",
       "      <th>3</th>\n",
       "      <td>4</td>\n",
       "      <td>1007</td>\n",
       "      <td>Alabama</td>\n",
       "      <td>Bibb</td>\n",
       "      <td>47</td>\n",
       "      <td>24</td>\n",
       "      <td>38</td>\n",
       "      <td>16</td>\n",
       "      <td>38</td>\n",
       "      <td>31</td>\n",
       "    </tr>\n",
       "    <tr>\n",
       "      <th>4</th>\n",
       "      <td>5</td>\n",
       "      <td>1009</td>\n",
       "      <td>Alabama</td>\n",
       "      <td>Blount</td>\n",
       "      <td>36</td>\n",
       "      <td>14</td>\n",
       "      <td>10</td>\n",
       "      <td>41</td>\n",
       "      <td>15</td>\n",
       "      <td>53</td>\n",
       "    </tr>\n",
       "  </tbody>\n",
       "</table>\n",
       "</div>"
      ],
      "text/plain": [
       "   Unnamed: 0  FIPS    State   County Lifespan_Rank Life_Quality_Rank  \\\n",
       "0           1  1001  Alabama  Autauga             8                 5   \n",
       "1           2  1003  Alabama  Baldwin             3                 4   \n",
       "2           3  1005  Alabama  Barbour            14                48   \n",
       "3           4  1007  Alabama     Bibb            47                24   \n",
       "4           5  1009  Alabama   Blount            36                14   \n",
       "\n",
       "  Health_Behaviors_Rank Clinical_Care_Rank Social_Economic_Factors_Rank  \\\n",
       "0                    15                 14                            5   \n",
       "1                     3                  4                            3   \n",
       "2                    53                 30                           61   \n",
       "3                    38                 16                           38   \n",
       "4                    10                 41                           15   \n",
       "\n",
       "  Physical_Environment_Rank  \n",
       "0                        50  \n",
       "1                        62  \n",
       "2                        32  \n",
       "3                        31  \n",
       "4                        53  "
      ]
     },
     "execution_count": 4,
     "metadata": {},
     "output_type": "execute_result"
    }
   ],
   "source": [
    "# Read in Health Ranking Data\n",
    "df = pd.read_csv(f\"../../{file_path}County_Health_All_Factors.csv\")\n",
    "print(df.shape)\n",
    "df.head()"
   ]
  },
  {
   "cell_type": "code",
   "execution_count": 5,
   "id": "44ceaabc",
   "metadata": {},
   "outputs": [
    {
     "name": "stdout",
     "output_type": "stream",
     "text": [
      "(3033, 25)\n"
     ]
    },
    {
     "data": {
      "text/html": [
       "<div>\n",
       "<style scoped>\n",
       "    .dataframe tbody tr th:only-of-type {\n",
       "        vertical-align: middle;\n",
       "    }\n",
       "\n",
       "    .dataframe tbody tr th {\n",
       "        vertical-align: top;\n",
       "    }\n",
       "\n",
       "    .dataframe thead th {\n",
       "        text-align: right;\n",
       "    }\n",
       "</style>\n",
       "<table border=\"1\" class=\"dataframe\">\n",
       "  <thead>\n",
       "    <tr style=\"text-align: right;\">\n",
       "      <th></th>\n",
       "      <th>County</th>\n",
       "      <th>State</th>\n",
       "      <th>FIPS</th>\n",
       "      <th>Lyme_Disease_Incidence_Reported</th>\n",
       "      <th>Population</th>\n",
       "      <th>%&lt;18_Yrs_Old</th>\n",
       "      <th>%65_Yrs_Old_and_over</th>\n",
       "      <th>Income($)</th>\n",
       "      <th>African_American(Count)</th>\n",
       "      <th>African_American(%)</th>\n",
       "      <th>...</th>\n",
       "      <th>Native_Hawaiian/Other_Pacific_Islander(%)</th>\n",
       "      <th>Hispanic(Count)</th>\n",
       "      <th>Hispanic(%)</th>\n",
       "      <th>Non-Hispanic_White_(Count)</th>\n",
       "      <th>Non-Hispanic_White(%)</th>\n",
       "      <th>Female(%)</th>\n",
       "      <th>Rural(Count)</th>\n",
       "      <th>Rural(%)</th>\n",
       "      <th>Life_Expectancy</th>\n",
       "      <th>Deaths(Count)</th>\n",
       "    </tr>\n",
       "  </thead>\n",
       "  <tbody>\n",
       "    <tr>\n",
       "      <th>0</th>\n",
       "      <td>Autauga</td>\n",
       "      <td>Alabama</td>\n",
       "      <td>1001</td>\n",
       "      <td>1.0</td>\n",
       "      <td>55504</td>\n",
       "      <td>23.94</td>\n",
       "      <td>15.12</td>\n",
       "      <td>$58343.00</td>\n",
       "      <td>10687</td>\n",
       "      <td>19.25</td>\n",
       "      <td>...</td>\n",
       "      <td>0.10</td>\n",
       "      <td>1586</td>\n",
       "      <td>2.86</td>\n",
       "      <td>41336</td>\n",
       "      <td>74.47</td>\n",
       "      <td>51.34</td>\n",
       "      <td>22921.0</td>\n",
       "      <td>42.00</td>\n",
       "      <td>76.33</td>\n",
       "      <td>815.0</td>\n",
       "    </tr>\n",
       "    <tr>\n",
       "      <th>1</th>\n",
       "      <td>Baldwin</td>\n",
       "      <td>Alabama</td>\n",
       "      <td>1003</td>\n",
       "      <td>0.0</td>\n",
       "      <td>212628</td>\n",
       "      <td>21.85</td>\n",
       "      <td>19.95</td>\n",
       "      <td>$56607.00</td>\n",
       "      <td>19037</td>\n",
       "      <td>8.95</td>\n",
       "      <td>...</td>\n",
       "      <td>0.07</td>\n",
       "      <td>9675</td>\n",
       "      <td>4.55</td>\n",
       "      <td>176582</td>\n",
       "      <td>83.05</td>\n",
       "      <td>51.45</td>\n",
       "      <td>77060.0</td>\n",
       "      <td>42.28</td>\n",
       "      <td>78.60</td>\n",
       "      <td>2827.0</td>\n",
       "    </tr>\n",
       "    <tr>\n",
       "      <th>2</th>\n",
       "      <td>Barbour</td>\n",
       "      <td>Alabama</td>\n",
       "      <td>1005</td>\n",
       "      <td>1.0</td>\n",
       "      <td>25270</td>\n",
       "      <td>20.76</td>\n",
       "      <td>18.82</td>\n",
       "      <td>$32490.00</td>\n",
       "      <td>12115</td>\n",
       "      <td>47.94</td>\n",
       "      <td>...</td>\n",
       "      <td>0.19</td>\n",
       "      <td>1063</td>\n",
       "      <td>4.21</td>\n",
       "      <td>11613</td>\n",
       "      <td>45.96</td>\n",
       "      <td>47.23</td>\n",
       "      <td>18613.0</td>\n",
       "      <td>67.79</td>\n",
       "      <td>75.78</td>\n",
       "      <td>451.0</td>\n",
       "    </tr>\n",
       "    <tr>\n",
       "      <th>3</th>\n",
       "      <td>Bibb</td>\n",
       "      <td>Alabama</td>\n",
       "      <td>1007</td>\n",
       "      <td>0.0</td>\n",
       "      <td>22668</td>\n",
       "      <td>20.61</td>\n",
       "      <td>16.02</td>\n",
       "      <td>$45795.00</td>\n",
       "      <td>4864</td>\n",
       "      <td>21.46</td>\n",
       "      <td>...</td>\n",
       "      <td>0.11</td>\n",
       "      <td>598</td>\n",
       "      <td>2.64</td>\n",
       "      <td>16842</td>\n",
       "      <td>74.30</td>\n",
       "      <td>46.45</td>\n",
       "      <td>15663.0</td>\n",
       "      <td>68.35</td>\n",
       "      <td>73.93</td>\n",
       "      <td>445.0</td>\n",
       "    </tr>\n",
       "    <tr>\n",
       "      <th>4</th>\n",
       "      <td>Blount</td>\n",
       "      <td>Alabama</td>\n",
       "      <td>1009</td>\n",
       "      <td>0.0</td>\n",
       "      <td>58013</td>\n",
       "      <td>23.35</td>\n",
       "      <td>17.84</td>\n",
       "      <td>$48253.00</td>\n",
       "      <td>847</td>\n",
       "      <td>1.46</td>\n",
       "      <td>...</td>\n",
       "      <td>0.12</td>\n",
       "      <td>5549</td>\n",
       "      <td>9.57</td>\n",
       "      <td>50439</td>\n",
       "      <td>86.94</td>\n",
       "      <td>50.69</td>\n",
       "      <td>51562.0</td>\n",
       "      <td>89.95</td>\n",
       "      <td>74.60</td>\n",
       "      <td>1050.0</td>\n",
       "    </tr>\n",
       "  </tbody>\n",
       "</table>\n",
       "<p>5 rows × 25 columns</p>\n",
       "</div>"
      ],
      "text/plain": [
       "    County    State  FIPS  Lyme_Disease_Incidence_Reported  Population  \\\n",
       "0  Autauga  Alabama  1001                              1.0       55504   \n",
       "1  Baldwin  Alabama  1003                              0.0      212628   \n",
       "2  Barbour  Alabama  1005                              1.0       25270   \n",
       "3     Bibb  Alabama  1007                              0.0       22668   \n",
       "4   Blount  Alabama  1009                              0.0       58013   \n",
       "\n",
       "   %<18_Yrs_Old  %65_Yrs_Old_and_over  Income($)  African_American(Count)  \\\n",
       "0         23.94                 15.12  $58343.00                    10687   \n",
       "1         21.85                 19.95  $56607.00                    19037   \n",
       "2         20.76                 18.82  $32490.00                    12115   \n",
       "3         20.61                 16.02  $45795.00                     4864   \n",
       "4         23.35                 17.84  $48253.00                      847   \n",
       "\n",
       "   African_American(%)  ...  Native_Hawaiian/Other_Pacific_Islander(%)  \\\n",
       "0                19.25  ...                                       0.10   \n",
       "1                 8.95  ...                                       0.07   \n",
       "2                47.94  ...                                       0.19   \n",
       "3                21.46  ...                                       0.11   \n",
       "4                 1.46  ...                                       0.12   \n",
       "\n",
       "   Hispanic(Count)  Hispanic(%)  Non-Hispanic_White_(Count)  \\\n",
       "0             1586         2.86                       41336   \n",
       "1             9675         4.55                      176582   \n",
       "2             1063         4.21                       11613   \n",
       "3              598         2.64                       16842   \n",
       "4             5549         9.57                       50439   \n",
       "\n",
       "   Non-Hispanic_White(%)  Female(%)  Rural(Count)  Rural(%)  Life_Expectancy  \\\n",
       "0                  74.47      51.34       22921.0     42.00            76.33   \n",
       "1                  83.05      51.45       77060.0     42.28            78.60   \n",
       "2                  45.96      47.23       18613.0     67.79            75.78   \n",
       "3                  74.30      46.45       15663.0     68.35            73.93   \n",
       "4                  86.94      50.69       51562.0     89.95            74.60   \n",
       "\n",
       "   Deaths(Count)  \n",
       "0          815.0  \n",
       "1         2827.0  \n",
       "2          451.0  \n",
       "3          445.0  \n",
       "4         1050.0  \n",
       "\n",
       "[5 rows x 25 columns]"
      ]
     },
     "execution_count": 5,
     "metadata": {},
     "output_type": "execute_result"
    }
   ],
   "source": [
    "# Read in the Merged Data\n",
    "df2 = pd.read_csv(f\"../../{file_path}Merged_Demographic_Data.csv\")\n",
    "print(df2.shape)\n",
    "df2.head()"
   ]
  },
  {
   "cell_type": "code",
   "execution_count": 6,
   "id": "895c25c9",
   "metadata": {},
   "outputs": [
    {
     "name": "stdout",
     "output_type": "stream",
     "text": [
      "(3142, 34)\n"
     ]
    },
    {
     "data": {
      "text/html": [
       "<div>\n",
       "<style scoped>\n",
       "    .dataframe tbody tr th:only-of-type {\n",
       "        vertical-align: middle;\n",
       "    }\n",
       "\n",
       "    .dataframe tbody tr th {\n",
       "        vertical-align: top;\n",
       "    }\n",
       "\n",
       "    .dataframe thead th {\n",
       "        text-align: right;\n",
       "    }\n",
       "</style>\n",
       "<table border=\"1\" class=\"dataframe\">\n",
       "  <thead>\n",
       "    <tr style=\"text-align: right;\">\n",
       "      <th></th>\n",
       "      <th>Unnamed: 0</th>\n",
       "      <th>FIPS</th>\n",
       "      <th>State_x</th>\n",
       "      <th>County_x</th>\n",
       "      <th>Lifespan_Rank</th>\n",
       "      <th>Life_Quality_Rank</th>\n",
       "      <th>Health_Behaviors_Rank</th>\n",
       "      <th>Clinical_Care_Rank</th>\n",
       "      <th>Social_Economic_Factors_Rank</th>\n",
       "      <th>Physical_Environment_Rank</th>\n",
       "      <th>...</th>\n",
       "      <th>Native_Hawaiian/Other_Pacific_Islander(%)</th>\n",
       "      <th>Hispanic(Count)</th>\n",
       "      <th>Hispanic(%)</th>\n",
       "      <th>Non-Hispanic_White_(Count)</th>\n",
       "      <th>Non-Hispanic_White(%)</th>\n",
       "      <th>Female(%)</th>\n",
       "      <th>Rural(Count)</th>\n",
       "      <th>Rural(%)</th>\n",
       "      <th>Life_Expectancy</th>\n",
       "      <th>Deaths(Count)</th>\n",
       "    </tr>\n",
       "  </thead>\n",
       "  <tbody>\n",
       "    <tr>\n",
       "      <th>0</th>\n",
       "      <td>1</td>\n",
       "      <td>1001</td>\n",
       "      <td>Alabama</td>\n",
       "      <td>Autauga</td>\n",
       "      <td>8</td>\n",
       "      <td>5</td>\n",
       "      <td>15</td>\n",
       "      <td>14</td>\n",
       "      <td>5</td>\n",
       "      <td>50</td>\n",
       "      <td>...</td>\n",
       "      <td>0.10</td>\n",
       "      <td>1586.0</td>\n",
       "      <td>2.86</td>\n",
       "      <td>41336.0</td>\n",
       "      <td>74.47</td>\n",
       "      <td>51.34</td>\n",
       "      <td>22921.0</td>\n",
       "      <td>42.00</td>\n",
       "      <td>76.33</td>\n",
       "      <td>815.0</td>\n",
       "    </tr>\n",
       "    <tr>\n",
       "      <th>1</th>\n",
       "      <td>2</td>\n",
       "      <td>1003</td>\n",
       "      <td>Alabama</td>\n",
       "      <td>Baldwin</td>\n",
       "      <td>3</td>\n",
       "      <td>4</td>\n",
       "      <td>3</td>\n",
       "      <td>4</td>\n",
       "      <td>3</td>\n",
       "      <td>62</td>\n",
       "      <td>...</td>\n",
       "      <td>0.07</td>\n",
       "      <td>9675.0</td>\n",
       "      <td>4.55</td>\n",
       "      <td>176582.0</td>\n",
       "      <td>83.05</td>\n",
       "      <td>51.45</td>\n",
       "      <td>77060.0</td>\n",
       "      <td>42.28</td>\n",
       "      <td>78.60</td>\n",
       "      <td>2827.0</td>\n",
       "    </tr>\n",
       "    <tr>\n",
       "      <th>2</th>\n",
       "      <td>3</td>\n",
       "      <td>1005</td>\n",
       "      <td>Alabama</td>\n",
       "      <td>Barbour</td>\n",
       "      <td>14</td>\n",
       "      <td>48</td>\n",
       "      <td>53</td>\n",
       "      <td>30</td>\n",
       "      <td>61</td>\n",
       "      <td>32</td>\n",
       "      <td>...</td>\n",
       "      <td>0.19</td>\n",
       "      <td>1063.0</td>\n",
       "      <td>4.21</td>\n",
       "      <td>11613.0</td>\n",
       "      <td>45.96</td>\n",
       "      <td>47.23</td>\n",
       "      <td>18613.0</td>\n",
       "      <td>67.79</td>\n",
       "      <td>75.78</td>\n",
       "      <td>451.0</td>\n",
       "    </tr>\n",
       "    <tr>\n",
       "      <th>3</th>\n",
       "      <td>4</td>\n",
       "      <td>1007</td>\n",
       "      <td>Alabama</td>\n",
       "      <td>Bibb</td>\n",
       "      <td>47</td>\n",
       "      <td>24</td>\n",
       "      <td>38</td>\n",
       "      <td>16</td>\n",
       "      <td>38</td>\n",
       "      <td>31</td>\n",
       "      <td>...</td>\n",
       "      <td>0.11</td>\n",
       "      <td>598.0</td>\n",
       "      <td>2.64</td>\n",
       "      <td>16842.0</td>\n",
       "      <td>74.30</td>\n",
       "      <td>46.45</td>\n",
       "      <td>15663.0</td>\n",
       "      <td>68.35</td>\n",
       "      <td>73.93</td>\n",
       "      <td>445.0</td>\n",
       "    </tr>\n",
       "    <tr>\n",
       "      <th>4</th>\n",
       "      <td>5</td>\n",
       "      <td>1009</td>\n",
       "      <td>Alabama</td>\n",
       "      <td>Blount</td>\n",
       "      <td>36</td>\n",
       "      <td>14</td>\n",
       "      <td>10</td>\n",
       "      <td>41</td>\n",
       "      <td>15</td>\n",
       "      <td>53</td>\n",
       "      <td>...</td>\n",
       "      <td>0.12</td>\n",
       "      <td>5549.0</td>\n",
       "      <td>9.57</td>\n",
       "      <td>50439.0</td>\n",
       "      <td>86.94</td>\n",
       "      <td>50.69</td>\n",
       "      <td>51562.0</td>\n",
       "      <td>89.95</td>\n",
       "      <td>74.60</td>\n",
       "      <td>1050.0</td>\n",
       "    </tr>\n",
       "  </tbody>\n",
       "</table>\n",
       "<p>5 rows × 34 columns</p>\n",
       "</div>"
      ],
      "text/plain": [
       "   Unnamed: 0  FIPS  State_x County_x Lifespan_Rank Life_Quality_Rank  \\\n",
       "0           1  1001  Alabama  Autauga             8                 5   \n",
       "1           2  1003  Alabama  Baldwin             3                 4   \n",
       "2           3  1005  Alabama  Barbour            14                48   \n",
       "3           4  1007  Alabama     Bibb            47                24   \n",
       "4           5  1009  Alabama   Blount            36                14   \n",
       "\n",
       "  Health_Behaviors_Rank Clinical_Care_Rank Social_Economic_Factors_Rank  \\\n",
       "0                    15                 14                            5   \n",
       "1                     3                  4                            3   \n",
       "2                    53                 30                           61   \n",
       "3                    38                 16                           38   \n",
       "4                    10                 41                           15   \n",
       "\n",
       "  Physical_Environment_Rank  ... Native_Hawaiian/Other_Pacific_Islander(%)  \\\n",
       "0                        50  ...                                      0.10   \n",
       "1                        62  ...                                      0.07   \n",
       "2                        32  ...                                      0.19   \n",
       "3                        31  ...                                      0.11   \n",
       "4                        53  ...                                      0.12   \n",
       "\n",
       "  Hispanic(Count)  Hispanic(%)  Non-Hispanic_White_(Count)  \\\n",
       "0          1586.0         2.86                     41336.0   \n",
       "1          9675.0         4.55                    176582.0   \n",
       "2          1063.0         4.21                     11613.0   \n",
       "3           598.0         2.64                     16842.0   \n",
       "4          5549.0         9.57                     50439.0   \n",
       "\n",
       "   Non-Hispanic_White(%)  Female(%) Rural(Count)  Rural(%)  Life_Expectancy  \\\n",
       "0                  74.47      51.34      22921.0     42.00            76.33   \n",
       "1                  83.05      51.45      77060.0     42.28            78.60   \n",
       "2                  45.96      47.23      18613.0     67.79            75.78   \n",
       "3                  74.30      46.45      15663.0     68.35            73.93   \n",
       "4                  86.94      50.69      51562.0     89.95            74.60   \n",
       "\n",
       "   Deaths(Count)  \n",
       "0          815.0  \n",
       "1         2827.0  \n",
       "2          451.0  \n",
       "3          445.0  \n",
       "4         1050.0  \n",
       "\n",
       "[5 rows x 34 columns]"
      ]
     },
     "execution_count": 6,
     "metadata": {},
     "output_type": "execute_result"
    }
   ],
   "source": [
    "df_merged = df.merge(df2, how='left', on='FIPS')\n",
    "print(df_merged.shape)\n",
    "df_merged.head()"
   ]
  },
  {
   "cell_type": "code",
   "execution_count": 7,
   "id": "8f18ad70",
   "metadata": {},
   "outputs": [],
   "source": [
    "df_merged = df_merged.dropna()"
   ]
  },
  {
   "cell_type": "code",
   "execution_count": 8,
   "id": "8809d83f",
   "metadata": {},
   "outputs": [],
   "source": [
    "df_merged['Income($)'] = df_merged['Income($)'].str.replace('$', '')\n",
    "df_merged['Income($)'] = df_merged['Income($)'].astype('float') / 100"
   ]
  },
  {
   "cell_type": "code",
   "execution_count": 9,
   "id": "e08aa864",
   "metadata": {},
   "outputs": [],
   "source": [
    "df_merged = df_merged.astype({'Lifespan_Rank': 'int32', 'Life_Quality_Rank': 'int32','Health_Behaviors_Rank':'int32',\n",
    "'Clinical_Care_Rank':'int32','Social_Economic_Factors_Rank':'int32','Physical_Environment_Rank':'int32'})"
   ]
  },
  {
   "cell_type": "code",
   "execution_count": 10,
   "id": "9d902f0c",
   "metadata": {
    "scrolled": true
   },
   "outputs": [
    {
     "data": {
      "text/html": [
       "<div>\n",
       "<style scoped>\n",
       "    .dataframe tbody tr th:only-of-type {\n",
       "        vertical-align: middle;\n",
       "    }\n",
       "\n",
       "    .dataframe tbody tr th {\n",
       "        vertical-align: top;\n",
       "    }\n",
       "\n",
       "    .dataframe thead th {\n",
       "        text-align: right;\n",
       "    }\n",
       "</style>\n",
       "<table border=\"1\" class=\"dataframe\">\n",
       "  <thead>\n",
       "    <tr style=\"text-align: right;\">\n",
       "      <th></th>\n",
       "      <th>Unnamed: 0</th>\n",
       "      <th>FIPS</th>\n",
       "      <th>County</th>\n",
       "      <th>State</th>\n",
       "      <th>Lat</th>\n",
       "      <th>Long</th>\n",
       "      <th>Ticks_With_Lyme</th>\n",
       "      <th>Cases2019</th>\n",
       "    </tr>\n",
       "  </thead>\n",
       "  <tbody>\n",
       "    <tr>\n",
       "      <th>0</th>\n",
       "      <td>0</td>\n",
       "      <td>1001.0</td>\n",
       "      <td>Autauga County</td>\n",
       "      <td>Alabama</td>\n",
       "      <td>32.5349</td>\n",
       "      <td>-86.6427</td>\n",
       "      <td>0</td>\n",
       "      <td>1</td>\n",
       "    </tr>\n",
       "    <tr>\n",
       "      <th>1</th>\n",
       "      <td>1</td>\n",
       "      <td>1003.0</td>\n",
       "      <td>Baldwin County</td>\n",
       "      <td>Alabama</td>\n",
       "      <td>30.7275</td>\n",
       "      <td>-87.7226</td>\n",
       "      <td>0</td>\n",
       "      <td>0</td>\n",
       "    </tr>\n",
       "    <tr>\n",
       "      <th>2</th>\n",
       "      <td>2</td>\n",
       "      <td>1005.0</td>\n",
       "      <td>Barbour County</td>\n",
       "      <td>Alabama</td>\n",
       "      <td>31.8696</td>\n",
       "      <td>-85.3932</td>\n",
       "      <td>0</td>\n",
       "      <td>1</td>\n",
       "    </tr>\n",
       "    <tr>\n",
       "      <th>3</th>\n",
       "      <td>3</td>\n",
       "      <td>1007.0</td>\n",
       "      <td>Bibb County</td>\n",
       "      <td>Alabama</td>\n",
       "      <td>32.9986</td>\n",
       "      <td>-87.1265</td>\n",
       "      <td>0</td>\n",
       "      <td>0</td>\n",
       "    </tr>\n",
       "    <tr>\n",
       "      <th>4</th>\n",
       "      <td>4</td>\n",
       "      <td>1009.0</td>\n",
       "      <td>Blount County</td>\n",
       "      <td>Alabama</td>\n",
       "      <td>33.9809</td>\n",
       "      <td>-86.5674</td>\n",
       "      <td>0</td>\n",
       "      <td>0</td>\n",
       "    </tr>\n",
       "  </tbody>\n",
       "</table>\n",
       "</div>"
      ],
      "text/plain": [
       "   Unnamed: 0    FIPS          County    State      Lat     Long  \\\n",
       "0           0  1001.0  Autauga County  Alabama  32.5349 -86.6427   \n",
       "1           1  1003.0  Baldwin County  Alabama  30.7275 -87.7226   \n",
       "2           2  1005.0  Barbour County  Alabama  31.8696 -85.3932   \n",
       "3           3  1007.0     Bibb County  Alabama  32.9986 -87.1265   \n",
       "4           4  1009.0   Blount County  Alabama  33.9809 -86.5674   \n",
       "\n",
       "   Ticks_With_Lyme  Cases2019  \n",
       "0                0          1  \n",
       "1                0          0  \n",
       "2                0          1  \n",
       "3                0          0  \n",
       "4                0          0  "
      ]
     },
     "execution_count": 10,
     "metadata": {},
     "output_type": "execute_result"
    }
   ],
   "source": [
    "df3 = pd.read_csv(f\"../../{file_path}Ticks_Cases_Lat_Long.csv\")\n",
    "df3.head()"
   ]
  },
  {
   "cell_type": "code",
   "execution_count": 11,
   "id": "f9a1efe2",
   "metadata": {
    "scrolled": true
   },
   "outputs": [
    {
     "name": "stdout",
     "output_type": "stream",
     "text": [
      "(3013, 41)\n"
     ]
    },
    {
     "data": {
      "text/html": [
       "<div>\n",
       "<style scoped>\n",
       "    .dataframe tbody tr th:only-of-type {\n",
       "        vertical-align: middle;\n",
       "    }\n",
       "\n",
       "    .dataframe tbody tr th {\n",
       "        vertical-align: top;\n",
       "    }\n",
       "\n",
       "    .dataframe thead th {\n",
       "        text-align: right;\n",
       "    }\n",
       "</style>\n",
       "<table border=\"1\" class=\"dataframe\">\n",
       "  <thead>\n",
       "    <tr style=\"text-align: right;\">\n",
       "      <th></th>\n",
       "      <th>Unnamed: 0_x</th>\n",
       "      <th>FIPS</th>\n",
       "      <th>State_x</th>\n",
       "      <th>County_x</th>\n",
       "      <th>Lifespan_Rank</th>\n",
       "      <th>Life_Quality_Rank</th>\n",
       "      <th>Health_Behaviors_Rank</th>\n",
       "      <th>Clinical_Care_Rank</th>\n",
       "      <th>Social_Economic_Factors_Rank</th>\n",
       "      <th>Physical_Environment_Rank</th>\n",
       "      <th>...</th>\n",
       "      <th>Rural(%)</th>\n",
       "      <th>Life_Expectancy</th>\n",
       "      <th>Deaths(Count)</th>\n",
       "      <th>Unnamed: 0_y</th>\n",
       "      <th>County</th>\n",
       "      <th>State</th>\n",
       "      <th>Lat</th>\n",
       "      <th>Long</th>\n",
       "      <th>Ticks_With_Lyme</th>\n",
       "      <th>Cases2019</th>\n",
       "    </tr>\n",
       "  </thead>\n",
       "  <tbody>\n",
       "    <tr>\n",
       "      <th>0</th>\n",
       "      <td>1</td>\n",
       "      <td>1001</td>\n",
       "      <td>Alabama</td>\n",
       "      <td>Autauga</td>\n",
       "      <td>8</td>\n",
       "      <td>5</td>\n",
       "      <td>15</td>\n",
       "      <td>14</td>\n",
       "      <td>5</td>\n",
       "      <td>50</td>\n",
       "      <td>...</td>\n",
       "      <td>42.00</td>\n",
       "      <td>76.33</td>\n",
       "      <td>815.0</td>\n",
       "      <td>0</td>\n",
       "      <td>Autauga County</td>\n",
       "      <td>Alabama</td>\n",
       "      <td>32.5349</td>\n",
       "      <td>-86.6427</td>\n",
       "      <td>0</td>\n",
       "      <td>1</td>\n",
       "    </tr>\n",
       "    <tr>\n",
       "      <th>1</th>\n",
       "      <td>2</td>\n",
       "      <td>1003</td>\n",
       "      <td>Alabama</td>\n",
       "      <td>Baldwin</td>\n",
       "      <td>3</td>\n",
       "      <td>4</td>\n",
       "      <td>3</td>\n",
       "      <td>4</td>\n",
       "      <td>3</td>\n",
       "      <td>62</td>\n",
       "      <td>...</td>\n",
       "      <td>42.28</td>\n",
       "      <td>78.60</td>\n",
       "      <td>2827.0</td>\n",
       "      <td>1</td>\n",
       "      <td>Baldwin County</td>\n",
       "      <td>Alabama</td>\n",
       "      <td>30.7275</td>\n",
       "      <td>-87.7226</td>\n",
       "      <td>0</td>\n",
       "      <td>0</td>\n",
       "    </tr>\n",
       "    <tr>\n",
       "      <th>2</th>\n",
       "      <td>3</td>\n",
       "      <td>1005</td>\n",
       "      <td>Alabama</td>\n",
       "      <td>Barbour</td>\n",
       "      <td>14</td>\n",
       "      <td>48</td>\n",
       "      <td>53</td>\n",
       "      <td>30</td>\n",
       "      <td>61</td>\n",
       "      <td>32</td>\n",
       "      <td>...</td>\n",
       "      <td>67.79</td>\n",
       "      <td>75.78</td>\n",
       "      <td>451.0</td>\n",
       "      <td>2</td>\n",
       "      <td>Barbour County</td>\n",
       "      <td>Alabama</td>\n",
       "      <td>31.8696</td>\n",
       "      <td>-85.3932</td>\n",
       "      <td>0</td>\n",
       "      <td>1</td>\n",
       "    </tr>\n",
       "    <tr>\n",
       "      <th>3</th>\n",
       "      <td>4</td>\n",
       "      <td>1007</td>\n",
       "      <td>Alabama</td>\n",
       "      <td>Bibb</td>\n",
       "      <td>47</td>\n",
       "      <td>24</td>\n",
       "      <td>38</td>\n",
       "      <td>16</td>\n",
       "      <td>38</td>\n",
       "      <td>31</td>\n",
       "      <td>...</td>\n",
       "      <td>68.35</td>\n",
       "      <td>73.93</td>\n",
       "      <td>445.0</td>\n",
       "      <td>3</td>\n",
       "      <td>Bibb County</td>\n",
       "      <td>Alabama</td>\n",
       "      <td>32.9986</td>\n",
       "      <td>-87.1265</td>\n",
       "      <td>0</td>\n",
       "      <td>0</td>\n",
       "    </tr>\n",
       "    <tr>\n",
       "      <th>4</th>\n",
       "      <td>5</td>\n",
       "      <td>1009</td>\n",
       "      <td>Alabama</td>\n",
       "      <td>Blount</td>\n",
       "      <td>36</td>\n",
       "      <td>14</td>\n",
       "      <td>10</td>\n",
       "      <td>41</td>\n",
       "      <td>15</td>\n",
       "      <td>53</td>\n",
       "      <td>...</td>\n",
       "      <td>89.95</td>\n",
       "      <td>74.60</td>\n",
       "      <td>1050.0</td>\n",
       "      <td>4</td>\n",
       "      <td>Blount County</td>\n",
       "      <td>Alabama</td>\n",
       "      <td>33.9809</td>\n",
       "      <td>-86.5674</td>\n",
       "      <td>0</td>\n",
       "      <td>0</td>\n",
       "    </tr>\n",
       "  </tbody>\n",
       "</table>\n",
       "<p>5 rows × 41 columns</p>\n",
       "</div>"
      ],
      "text/plain": [
       "   Unnamed: 0_x  FIPS  State_x County_x  Lifespan_Rank  Life_Quality_Rank  \\\n",
       "0             1  1001  Alabama  Autauga              8                  5   \n",
       "1             2  1003  Alabama  Baldwin              3                  4   \n",
       "2             3  1005  Alabama  Barbour             14                 48   \n",
       "3             4  1007  Alabama     Bibb             47                 24   \n",
       "4             5  1009  Alabama   Blount             36                 14   \n",
       "\n",
       "   Health_Behaviors_Rank  Clinical_Care_Rank  Social_Economic_Factors_Rank  \\\n",
       "0                     15                  14                             5   \n",
       "1                      3                   4                             3   \n",
       "2                     53                  30                            61   \n",
       "3                     38                  16                            38   \n",
       "4                     10                  41                            15   \n",
       "\n",
       "   Physical_Environment_Rank  ... Rural(%) Life_Expectancy  Deaths(Count)  \\\n",
       "0                         50  ...    42.00           76.33          815.0   \n",
       "1                         62  ...    42.28           78.60         2827.0   \n",
       "2                         32  ...    67.79           75.78          451.0   \n",
       "3                         31  ...    68.35           73.93          445.0   \n",
       "4                         53  ...    89.95           74.60         1050.0   \n",
       "\n",
       "   Unnamed: 0_y          County    State      Lat     Long  Ticks_With_Lyme  \\\n",
       "0             0  Autauga County  Alabama  32.5349 -86.6427                0   \n",
       "1             1  Baldwin County  Alabama  30.7275 -87.7226                0   \n",
       "2             2  Barbour County  Alabama  31.8696 -85.3932                0   \n",
       "3             3     Bibb County  Alabama  32.9986 -87.1265                0   \n",
       "4             4   Blount County  Alabama  33.9809 -86.5674                0   \n",
       "\n",
       "   Cases2019  \n",
       "0          1  \n",
       "1          0  \n",
       "2          1  \n",
       "3          0  \n",
       "4          0  \n",
       "\n",
       "[5 rows x 41 columns]"
      ]
     },
     "execution_count": 11,
     "metadata": {},
     "output_type": "execute_result"
    }
   ],
   "source": [
    "mldf = df_merged.merge(df3, on='FIPS')\n",
    "print(mldf.shape)\n",
    "mldf.head()"
   ]
  },
  {
   "cell_type": "code",
   "execution_count": 12,
   "id": "a554ca41",
   "metadata": {
    "scrolled": false
   },
   "outputs": [
    {
     "name": "stdout",
     "output_type": "stream",
     "text": [
      "Unnamed: 0_x has 0 nulls\n",
      "FIPS has 0 nulls\n",
      "State_x has 0 nulls\n",
      "County_x has 0 nulls\n",
      "Lifespan_Rank has 0 nulls\n",
      "Life_Quality_Rank has 0 nulls\n",
      "Health_Behaviors_Rank has 0 nulls\n",
      "Clinical_Care_Rank has 0 nulls\n",
      "Social_Economic_Factors_Rank has 0 nulls\n",
      "Physical_Environment_Rank has 0 nulls\n",
      "County_y has 0 nulls\n",
      "State_y has 0 nulls\n",
      "Lyme_Disease_Incidence_Reported has 0 nulls\n",
      "Population has 0 nulls\n",
      "%<18_Yrs_Old has 0 nulls\n",
      "%65_Yrs_Old_and_over has 0 nulls\n",
      "Income($) has 0 nulls\n",
      "African_American(Count) has 0 nulls\n",
      "African_American(%) has 0 nulls\n",
      "American_Indian/Alaskan_Native(Count) has 0 nulls\n",
      "American_Indian/Alaskan_Native(%) has 0 nulls\n",
      "Asian(Count) has 0 nulls\n",
      "Asian(%) has 0 nulls\n",
      "Native_Hawaiian/Other_Pacific_Islander(Count) has 0 nulls\n",
      "Native_Hawaiian/Other_Pacific_Islander(%) has 0 nulls\n",
      "Hispanic(Count) has 0 nulls\n",
      "Hispanic(%) has 0 nulls\n",
      "Non-Hispanic_White_(Count) has 0 nulls\n",
      "Non-Hispanic_White(%) has 0 nulls\n",
      "Female(%) has 0 nulls\n",
      "Rural(Count) has 0 nulls\n",
      "Rural(%) has 0 nulls\n",
      "Life_Expectancy has 0 nulls\n",
      "Deaths(Count) has 0 nulls\n",
      "Unnamed: 0_y has 0 nulls\n",
      "County has 0 nulls\n",
      "State has 0 nulls\n",
      "Lat has 0 nulls\n",
      "Long has 0 nulls\n",
      "Ticks_With_Lyme has 0 nulls\n",
      "Cases2019 has 0 nulls\n"
     ]
    }
   ],
   "source": [
    "# Check for null values\n",
    "for col in mldf:\n",
    "    print(f'{col} has {mldf[col].isnull().sum()} nulls')"
   ]
  },
  {
   "cell_type": "code",
   "execution_count": 13,
   "id": "80088605",
   "metadata": {
    "scrolled": true
   },
   "outputs": [
    {
     "data": {
      "text/plain": [
       "Unnamed: 0_x                                       int64\n",
       "FIPS                                               int64\n",
       "State_x                                           object\n",
       "County_x                                          object\n",
       "Lifespan_Rank                                      int32\n",
       "Life_Quality_Rank                                  int32\n",
       "Health_Behaviors_Rank                              int32\n",
       "Clinical_Care_Rank                                 int32\n",
       "Social_Economic_Factors_Rank                       int32\n",
       "Physical_Environment_Rank                          int32\n",
       "County_y                                          object\n",
       "State_y                                           object\n",
       "Lyme_Disease_Incidence_Reported                  float64\n",
       "Population                                       float64\n",
       "%<18_Yrs_Old                                     float64\n",
       "%65_Yrs_Old_and_over                             float64\n",
       "Income($)                                        float64\n",
       "African_American(Count)                          float64\n",
       "African_American(%)                              float64\n",
       "American_Indian/Alaskan_Native(Count)            float64\n",
       "American_Indian/Alaskan_Native(%)                float64\n",
       "Asian(Count)                                     float64\n",
       "Asian(%)                                         float64\n",
       "Native_Hawaiian/Other_Pacific_Islander(Count)    float64\n",
       "Native_Hawaiian/Other_Pacific_Islander(%)        float64\n",
       "Hispanic(Count)                                  float64\n",
       "Hispanic(%)                                      float64\n",
       "Non-Hispanic_White_(Count)                       float64\n",
       "Non-Hispanic_White(%)                            float64\n",
       "Female(%)                                        float64\n",
       "Rural(Count)                                     float64\n",
       "Rural(%)                                         float64\n",
       "Life_Expectancy                                  float64\n",
       "Deaths(Count)                                    float64\n",
       "Unnamed: 0_y                                       int64\n",
       "County                                            object\n",
       "State                                             object\n",
       "Lat                                              float64\n",
       "Long                                             float64\n",
       "Ticks_With_Lyme                                    int64\n",
       "Cases2019                                          int64\n",
       "dtype: object"
      ]
     },
     "execution_count": 13,
     "metadata": {},
     "output_type": "execute_result"
    }
   ],
   "source": [
    "mldf.dtypes"
   ]
  },
  {
   "cell_type": "code",
   "execution_count": 14,
   "id": "99ba5c46",
   "metadata": {},
   "outputs": [
    {
     "data": {
      "text/html": [
       "<div>\n",
       "<style scoped>\n",
       "    .dataframe tbody tr th:only-of-type {\n",
       "        vertical-align: middle;\n",
       "    }\n",
       "\n",
       "    .dataframe tbody tr th {\n",
       "        vertical-align: top;\n",
       "    }\n",
       "\n",
       "    .dataframe thead th {\n",
       "        text-align: right;\n",
       "    }\n",
       "</style>\n",
       "<table border=\"1\" class=\"dataframe\">\n",
       "  <thead>\n",
       "    <tr style=\"text-align: right;\">\n",
       "      <th></th>\n",
       "      <th>bin_sizes</th>\n",
       "      <th>bin_ids</th>\n",
       "    </tr>\n",
       "  </thead>\n",
       "  <tbody>\n",
       "    <tr>\n",
       "      <th>0</th>\n",
       "      <td>0 per 1000</td>\n",
       "      <td>0</td>\n",
       "    </tr>\n",
       "    <tr>\n",
       "      <th>1</th>\n",
       "      <td>0 - 0.25 per 1000</td>\n",
       "      <td>1</td>\n",
       "    </tr>\n",
       "    <tr>\n",
       "      <th>2</th>\n",
       "      <td>0.25 - 1 per 1000</td>\n",
       "      <td>2</td>\n",
       "    </tr>\n",
       "    <tr>\n",
       "      <th>3</th>\n",
       "      <td>3 + per 1000</td>\n",
       "      <td>3</td>\n",
       "    </tr>\n",
       "  </tbody>\n",
       "</table>\n",
       "</div>"
      ],
      "text/plain": [
       "           bin_sizes  bin_ids\n",
       "0         0 per 1000        0\n",
       "1  0 - 0.25 per 1000        1\n",
       "2  0.25 - 1 per 1000        2\n",
       "3       3 + per 1000        3"
      ]
     },
     "execution_count": 14,
     "metadata": {},
     "output_type": "execute_result"
    }
   ],
   "source": [
    "# Lyme disease incident reported bin key\n",
    "ldir_key_df = pd.DataFrame({\n",
    "    \"bin_sizes\":['0 per 1000','0 - 0.25 per 1000','0.25 - 1 per 1000', '3 + per 1000'],\n",
    "    \"bin_ids\": [0,1,2,3]\n",
    "})\n",
    "ldir_key_df.head()"
   ]
  },
  {
   "cell_type": "code",
   "execution_count": 15,
   "id": "a8596a09",
   "metadata": {},
   "outputs": [],
   "source": [
    "def map_fxn (x):\n",
    "    if x ==0:\n",
    "        return 0\n",
    "    elif x <= 0.25:\n",
    "        return 1\n",
    "    elif x <= 1:\n",
    "        return 2\n",
    "    else:\n",
    "        return 3"
   ]
  },
  {
   "cell_type": "code",
   "execution_count": 16,
   "id": "04e234b3",
   "metadata": {},
   "outputs": [],
   "source": [
    "mldf['Norm_Incidence'] = mldf['Lyme_Disease_Incidence_Reported']/mldf['Population']*1000"
   ]
  },
  {
   "cell_type": "code",
   "execution_count": 17,
   "id": "383a5236",
   "metadata": {
    "scrolled": true
   },
   "outputs": [
    {
     "data": {
      "text/plain": [
       "count    3013.000000\n",
       "mean        0.130944\n",
       "std         0.415456\n",
       "min         0.000000\n",
       "25%         0.000000\n",
       "50%         0.000000\n",
       "75%         0.035140\n",
       "max         5.830611\n",
       "Name: Norm_Incidence, dtype: float64"
      ]
     },
     "execution_count": 17,
     "metadata": {},
     "output_type": "execute_result"
    }
   ],
   "source": [
    "mldf['Norm_Incidence'].describe()"
   ]
  },
  {
   "cell_type": "code",
   "execution_count": 18,
   "id": "b1ec3305",
   "metadata": {
    "scrolled": true
   },
   "outputs": [
    {
     "data": {
      "text/html": [
       "<div>\n",
       "<style scoped>\n",
       "    .dataframe tbody tr th:only-of-type {\n",
       "        vertical-align: middle;\n",
       "    }\n",
       "\n",
       "    .dataframe tbody tr th {\n",
       "        vertical-align: top;\n",
       "    }\n",
       "\n",
       "    .dataframe thead th {\n",
       "        text-align: right;\n",
       "    }\n",
       "</style>\n",
       "<table border=\"1\" class=\"dataframe\">\n",
       "  <thead>\n",
       "    <tr style=\"text-align: right;\">\n",
       "      <th></th>\n",
       "      <th>Unnamed: 0_x</th>\n",
       "      <th>FIPS</th>\n",
       "      <th>State_x</th>\n",
       "      <th>County_x</th>\n",
       "      <th>Lifespan_Rank</th>\n",
       "      <th>Life_Quality_Rank</th>\n",
       "      <th>Health_Behaviors_Rank</th>\n",
       "      <th>Clinical_Care_Rank</th>\n",
       "      <th>Social_Economic_Factors_Rank</th>\n",
       "      <th>Physical_Environment_Rank</th>\n",
       "      <th>...</th>\n",
       "      <th>Deaths(Count)</th>\n",
       "      <th>Unnamed: 0_y</th>\n",
       "      <th>County</th>\n",
       "      <th>State</th>\n",
       "      <th>Lat</th>\n",
       "      <th>Long</th>\n",
       "      <th>Ticks_With_Lyme</th>\n",
       "      <th>Cases2019</th>\n",
       "      <th>Norm_Incidence</th>\n",
       "      <th>Norm_Incidence_Bin</th>\n",
       "    </tr>\n",
       "  </thead>\n",
       "  <tbody>\n",
       "    <tr>\n",
       "      <th>0</th>\n",
       "      <td>1</td>\n",
       "      <td>1001</td>\n",
       "      <td>Alabama</td>\n",
       "      <td>Autauga</td>\n",
       "      <td>8</td>\n",
       "      <td>5</td>\n",
       "      <td>15</td>\n",
       "      <td>14</td>\n",
       "      <td>5</td>\n",
       "      <td>50</td>\n",
       "      <td>...</td>\n",
       "      <td>815.0</td>\n",
       "      <td>0</td>\n",
       "      <td>Autauga County</td>\n",
       "      <td>Alabama</td>\n",
       "      <td>32.5349</td>\n",
       "      <td>-86.6427</td>\n",
       "      <td>0</td>\n",
       "      <td>1</td>\n",
       "      <td>0.018017</td>\n",
       "      <td>1</td>\n",
       "    </tr>\n",
       "    <tr>\n",
       "      <th>1</th>\n",
       "      <td>2</td>\n",
       "      <td>1003</td>\n",
       "      <td>Alabama</td>\n",
       "      <td>Baldwin</td>\n",
       "      <td>3</td>\n",
       "      <td>4</td>\n",
       "      <td>3</td>\n",
       "      <td>4</td>\n",
       "      <td>3</td>\n",
       "      <td>62</td>\n",
       "      <td>...</td>\n",
       "      <td>2827.0</td>\n",
       "      <td>1</td>\n",
       "      <td>Baldwin County</td>\n",
       "      <td>Alabama</td>\n",
       "      <td>30.7275</td>\n",
       "      <td>-87.7226</td>\n",
       "      <td>0</td>\n",
       "      <td>0</td>\n",
       "      <td>0.000000</td>\n",
       "      <td>0</td>\n",
       "    </tr>\n",
       "    <tr>\n",
       "      <th>2</th>\n",
       "      <td>3</td>\n",
       "      <td>1005</td>\n",
       "      <td>Alabama</td>\n",
       "      <td>Barbour</td>\n",
       "      <td>14</td>\n",
       "      <td>48</td>\n",
       "      <td>53</td>\n",
       "      <td>30</td>\n",
       "      <td>61</td>\n",
       "      <td>32</td>\n",
       "      <td>...</td>\n",
       "      <td>451.0</td>\n",
       "      <td>2</td>\n",
       "      <td>Barbour County</td>\n",
       "      <td>Alabama</td>\n",
       "      <td>31.8696</td>\n",
       "      <td>-85.3932</td>\n",
       "      <td>0</td>\n",
       "      <td>1</td>\n",
       "      <td>0.039573</td>\n",
       "      <td>1</td>\n",
       "    </tr>\n",
       "    <tr>\n",
       "      <th>3</th>\n",
       "      <td>4</td>\n",
       "      <td>1007</td>\n",
       "      <td>Alabama</td>\n",
       "      <td>Bibb</td>\n",
       "      <td>47</td>\n",
       "      <td>24</td>\n",
       "      <td>38</td>\n",
       "      <td>16</td>\n",
       "      <td>38</td>\n",
       "      <td>31</td>\n",
       "      <td>...</td>\n",
       "      <td>445.0</td>\n",
       "      <td>3</td>\n",
       "      <td>Bibb County</td>\n",
       "      <td>Alabama</td>\n",
       "      <td>32.9986</td>\n",
       "      <td>-87.1265</td>\n",
       "      <td>0</td>\n",
       "      <td>0</td>\n",
       "      <td>0.000000</td>\n",
       "      <td>0</td>\n",
       "    </tr>\n",
       "    <tr>\n",
       "      <th>4</th>\n",
       "      <td>5</td>\n",
       "      <td>1009</td>\n",
       "      <td>Alabama</td>\n",
       "      <td>Blount</td>\n",
       "      <td>36</td>\n",
       "      <td>14</td>\n",
       "      <td>10</td>\n",
       "      <td>41</td>\n",
       "      <td>15</td>\n",
       "      <td>53</td>\n",
       "      <td>...</td>\n",
       "      <td>1050.0</td>\n",
       "      <td>4</td>\n",
       "      <td>Blount County</td>\n",
       "      <td>Alabama</td>\n",
       "      <td>33.9809</td>\n",
       "      <td>-86.5674</td>\n",
       "      <td>0</td>\n",
       "      <td>0</td>\n",
       "      <td>0.000000</td>\n",
       "      <td>0</td>\n",
       "    </tr>\n",
       "  </tbody>\n",
       "</table>\n",
       "<p>5 rows × 43 columns</p>\n",
       "</div>"
      ],
      "text/plain": [
       "   Unnamed: 0_x  FIPS  State_x County_x  Lifespan_Rank  Life_Quality_Rank  \\\n",
       "0             1  1001  Alabama  Autauga              8                  5   \n",
       "1             2  1003  Alabama  Baldwin              3                  4   \n",
       "2             3  1005  Alabama  Barbour             14                 48   \n",
       "3             4  1007  Alabama     Bibb             47                 24   \n",
       "4             5  1009  Alabama   Blount             36                 14   \n",
       "\n",
       "   Health_Behaviors_Rank  Clinical_Care_Rank  Social_Economic_Factors_Rank  \\\n",
       "0                     15                  14                             5   \n",
       "1                      3                   4                             3   \n",
       "2                     53                  30                            61   \n",
       "3                     38                  16                            38   \n",
       "4                     10                  41                            15   \n",
       "\n",
       "   Physical_Environment_Rank  ... Deaths(Count) Unnamed: 0_y          County  \\\n",
       "0                         50  ...         815.0            0  Autauga County   \n",
       "1                         62  ...        2827.0            1  Baldwin County   \n",
       "2                         32  ...         451.0            2  Barbour County   \n",
       "3                         31  ...         445.0            3     Bibb County   \n",
       "4                         53  ...        1050.0            4   Blount County   \n",
       "\n",
       "     State      Lat     Long  Ticks_With_Lyme  Cases2019  Norm_Incidence  \\\n",
       "0  Alabama  32.5349 -86.6427                0          1        0.018017   \n",
       "1  Alabama  30.7275 -87.7226                0          0        0.000000   \n",
       "2  Alabama  31.8696 -85.3932                0          1        0.039573   \n",
       "3  Alabama  32.9986 -87.1265                0          0        0.000000   \n",
       "4  Alabama  33.9809 -86.5674                0          0        0.000000   \n",
       "\n",
       "   Norm_Incidence_Bin  \n",
       "0                   1  \n",
       "1                   0  \n",
       "2                   1  \n",
       "3                   0  \n",
       "4                   0  \n",
       "\n",
       "[5 rows x 43 columns]"
      ]
     },
     "execution_count": 18,
     "metadata": {},
     "output_type": "execute_result"
    }
   ],
   "source": [
    "# Map value to mldf to match the key df\n",
    "mldf['Norm_Incidence_Bin']= mldf['Norm_Incidence'].map(map_fxn)\n",
    "mldf.head()"
   ]
  },
  {
   "cell_type": "code",
   "execution_count": 19,
   "id": "d4f9622f",
   "metadata": {
    "scrolled": true
   },
   "outputs": [
    {
     "data": {
      "text/plain": [
       "0    1878\n",
       "1     783\n",
       "2     235\n",
       "3     117\n",
       "Name: Norm_Incidence_Bin, dtype: int64"
      ]
     },
     "execution_count": 19,
     "metadata": {},
     "output_type": "execute_result"
    }
   ],
   "source": [
    "mldf['Norm_Incidence_Bin'].value_counts()"
   ]
  },
  {
   "cell_type": "code",
   "execution_count": 20,
   "id": "5e057d5d",
   "metadata": {},
   "outputs": [],
   "source": [
    "mldf = mldf.drop(['Unnamed: 0_x','Unnamed: 0_y','County_y','State_y','State_x','County_x','African_American(Count)','American_Indian/Alaskan_Native(Count)',\n",
    "           'Hispanic(Count)','Non-Hispanic_White_(Count)','Asian(Count)',\n",
    "           'Native_Hawaiian/Other_Pacific_Islander(Count)','Rural(Count)','Lyme_Disease_Incidence_Reported','County_x','State_x','County', 'State','Cases2019'], axis=1)"
   ]
  },
  {
   "cell_type": "code",
   "execution_count": 21,
   "id": "b3c23596",
   "metadata": {
    "scrolled": false
   },
   "outputs": [
    {
     "data": {
      "text/plain": [
       "['FIPS',\n",
       " 'Lifespan_Rank',\n",
       " 'Life_Quality_Rank',\n",
       " 'Health_Behaviors_Rank',\n",
       " 'Clinical_Care_Rank',\n",
       " 'Social_Economic_Factors_Rank',\n",
       " 'Physical_Environment_Rank',\n",
       " 'Population',\n",
       " '%<18_Yrs_Old',\n",
       " '%65_Yrs_Old_and_over',\n",
       " 'Income($)',\n",
       " 'African_American(%)',\n",
       " 'American_Indian/Alaskan_Native(%)',\n",
       " 'Asian(%)',\n",
       " 'Native_Hawaiian/Other_Pacific_Islander(%)',\n",
       " 'Hispanic(%)',\n",
       " 'Non-Hispanic_White(%)',\n",
       " 'Female(%)',\n",
       " 'Rural(%)',\n",
       " 'Life_Expectancy',\n",
       " 'Deaths(Count)',\n",
       " 'Lat',\n",
       " 'Long',\n",
       " 'Ticks_With_Lyme',\n",
       " 'Norm_Incidence',\n",
       " 'Norm_Incidence_Bin']"
      ]
     },
     "execution_count": 21,
     "metadata": {},
     "output_type": "execute_result"
    }
   ],
   "source": [
    "list(mldf.columns)"
   ]
  },
  {
   "cell_type": "code",
   "execution_count": 22,
   "id": "b16325fd",
   "metadata": {},
   "outputs": [
    {
     "data": {
      "text/html": [
       "<div>\n",
       "<style scoped>\n",
       "    .dataframe tbody tr th:only-of-type {\n",
       "        vertical-align: middle;\n",
       "    }\n",
       "\n",
       "    .dataframe tbody tr th {\n",
       "        vertical-align: top;\n",
       "    }\n",
       "\n",
       "    .dataframe thead th {\n",
       "        text-align: right;\n",
       "    }\n",
       "</style>\n",
       "<table border=\"1\" class=\"dataframe\">\n",
       "  <thead>\n",
       "    <tr style=\"text-align: right;\">\n",
       "      <th></th>\n",
       "      <th>FIPS</th>\n",
       "      <th>Lifespan_Rank</th>\n",
       "      <th>Life_Quality_Rank</th>\n",
       "      <th>Health_Behaviors_Rank</th>\n",
       "      <th>Clinical_Care_Rank</th>\n",
       "      <th>Social_Economic_Factors_Rank</th>\n",
       "      <th>Physical_Environment_Rank</th>\n",
       "      <th>Population</th>\n",
       "      <th>%&lt;18_Yrs_Old</th>\n",
       "      <th>%65_Yrs_Old_and_over</th>\n",
       "      <th>...</th>\n",
       "      <th>Non-Hispanic_White(%)</th>\n",
       "      <th>Female(%)</th>\n",
       "      <th>Rural(%)</th>\n",
       "      <th>Life_Expectancy</th>\n",
       "      <th>Deaths(Count)</th>\n",
       "      <th>Lat</th>\n",
       "      <th>Long</th>\n",
       "      <th>Ticks_With_Lyme</th>\n",
       "      <th>Norm_Incidence</th>\n",
       "      <th>Norm_Incidence_Bin</th>\n",
       "    </tr>\n",
       "  </thead>\n",
       "  <tbody>\n",
       "    <tr>\n",
       "      <th>0</th>\n",
       "      <td>1001</td>\n",
       "      <td>8</td>\n",
       "      <td>5</td>\n",
       "      <td>15</td>\n",
       "      <td>14</td>\n",
       "      <td>5</td>\n",
       "      <td>50</td>\n",
       "      <td>55504.0</td>\n",
       "      <td>23.94</td>\n",
       "      <td>15.12</td>\n",
       "      <td>...</td>\n",
       "      <td>74.47</td>\n",
       "      <td>51.34</td>\n",
       "      <td>42.00</td>\n",
       "      <td>76.33</td>\n",
       "      <td>815.0</td>\n",
       "      <td>32.5349</td>\n",
       "      <td>-86.6427</td>\n",
       "      <td>0</td>\n",
       "      <td>0.018017</td>\n",
       "      <td>1</td>\n",
       "    </tr>\n",
       "    <tr>\n",
       "      <th>1</th>\n",
       "      <td>1003</td>\n",
       "      <td>3</td>\n",
       "      <td>4</td>\n",
       "      <td>3</td>\n",
       "      <td>4</td>\n",
       "      <td>3</td>\n",
       "      <td>62</td>\n",
       "      <td>212628.0</td>\n",
       "      <td>21.85</td>\n",
       "      <td>19.95</td>\n",
       "      <td>...</td>\n",
       "      <td>83.05</td>\n",
       "      <td>51.45</td>\n",
       "      <td>42.28</td>\n",
       "      <td>78.60</td>\n",
       "      <td>2827.0</td>\n",
       "      <td>30.7275</td>\n",
       "      <td>-87.7226</td>\n",
       "      <td>0</td>\n",
       "      <td>0.000000</td>\n",
       "      <td>0</td>\n",
       "    </tr>\n",
       "    <tr>\n",
       "      <th>2</th>\n",
       "      <td>1005</td>\n",
       "      <td>14</td>\n",
       "      <td>48</td>\n",
       "      <td>53</td>\n",
       "      <td>30</td>\n",
       "      <td>61</td>\n",
       "      <td>32</td>\n",
       "      <td>25270.0</td>\n",
       "      <td>20.76</td>\n",
       "      <td>18.82</td>\n",
       "      <td>...</td>\n",
       "      <td>45.96</td>\n",
       "      <td>47.23</td>\n",
       "      <td>67.79</td>\n",
       "      <td>75.78</td>\n",
       "      <td>451.0</td>\n",
       "      <td>31.8696</td>\n",
       "      <td>-85.3932</td>\n",
       "      <td>0</td>\n",
       "      <td>0.039573</td>\n",
       "      <td>1</td>\n",
       "    </tr>\n",
       "    <tr>\n",
       "      <th>3</th>\n",
       "      <td>1007</td>\n",
       "      <td>47</td>\n",
       "      <td>24</td>\n",
       "      <td>38</td>\n",
       "      <td>16</td>\n",
       "      <td>38</td>\n",
       "      <td>31</td>\n",
       "      <td>22668.0</td>\n",
       "      <td>20.61</td>\n",
       "      <td>16.02</td>\n",
       "      <td>...</td>\n",
       "      <td>74.30</td>\n",
       "      <td>46.45</td>\n",
       "      <td>68.35</td>\n",
       "      <td>73.93</td>\n",
       "      <td>445.0</td>\n",
       "      <td>32.9986</td>\n",
       "      <td>-87.1265</td>\n",
       "      <td>0</td>\n",
       "      <td>0.000000</td>\n",
       "      <td>0</td>\n",
       "    </tr>\n",
       "    <tr>\n",
       "      <th>4</th>\n",
       "      <td>1009</td>\n",
       "      <td>36</td>\n",
       "      <td>14</td>\n",
       "      <td>10</td>\n",
       "      <td>41</td>\n",
       "      <td>15</td>\n",
       "      <td>53</td>\n",
       "      <td>58013.0</td>\n",
       "      <td>23.35</td>\n",
       "      <td>17.84</td>\n",
       "      <td>...</td>\n",
       "      <td>86.94</td>\n",
       "      <td>50.69</td>\n",
       "      <td>89.95</td>\n",
       "      <td>74.60</td>\n",
       "      <td>1050.0</td>\n",
       "      <td>33.9809</td>\n",
       "      <td>-86.5674</td>\n",
       "      <td>0</td>\n",
       "      <td>0.000000</td>\n",
       "      <td>0</td>\n",
       "    </tr>\n",
       "  </tbody>\n",
       "</table>\n",
       "<p>5 rows × 26 columns</p>\n",
       "</div>"
      ],
      "text/plain": [
       "   FIPS  Lifespan_Rank  Life_Quality_Rank  Health_Behaviors_Rank  \\\n",
       "0  1001              8                  5                     15   \n",
       "1  1003              3                  4                      3   \n",
       "2  1005             14                 48                     53   \n",
       "3  1007             47                 24                     38   \n",
       "4  1009             36                 14                     10   \n",
       "\n",
       "   Clinical_Care_Rank  Social_Economic_Factors_Rank  \\\n",
       "0                  14                             5   \n",
       "1                   4                             3   \n",
       "2                  30                            61   \n",
       "3                  16                            38   \n",
       "4                  41                            15   \n",
       "\n",
       "   Physical_Environment_Rank  Population  %<18_Yrs_Old  %65_Yrs_Old_and_over  \\\n",
       "0                         50     55504.0         23.94                 15.12   \n",
       "1                         62    212628.0         21.85                 19.95   \n",
       "2                         32     25270.0         20.76                 18.82   \n",
       "3                         31     22668.0         20.61                 16.02   \n",
       "4                         53     58013.0         23.35                 17.84   \n",
       "\n",
       "   ...  Non-Hispanic_White(%)  Female(%)  Rural(%)  Life_Expectancy  \\\n",
       "0  ...                  74.47      51.34     42.00            76.33   \n",
       "1  ...                  83.05      51.45     42.28            78.60   \n",
       "2  ...                  45.96      47.23     67.79            75.78   \n",
       "3  ...                  74.30      46.45     68.35            73.93   \n",
       "4  ...                  86.94      50.69     89.95            74.60   \n",
       "\n",
       "   Deaths(Count)      Lat     Long  Ticks_With_Lyme  Norm_Incidence  \\\n",
       "0          815.0  32.5349 -86.6427                0        0.018017   \n",
       "1         2827.0  30.7275 -87.7226                0        0.000000   \n",
       "2          451.0  31.8696 -85.3932                0        0.039573   \n",
       "3          445.0  32.9986 -87.1265                0        0.000000   \n",
       "4         1050.0  33.9809 -86.5674                0        0.000000   \n",
       "\n",
       "   Norm_Incidence_Bin  \n",
       "0                   1  \n",
       "1                   0  \n",
       "2                   1  \n",
       "3                   0  \n",
       "4                   0  \n",
       "\n",
       "[5 rows x 26 columns]"
      ]
     },
     "execution_count": 22,
     "metadata": {},
     "output_type": "execute_result"
    }
   ],
   "source": [
    "mldf.head()"
   ]
  },
  {
   "cell_type": "code",
   "execution_count": 23,
   "id": "e625b714",
   "metadata": {},
   "outputs": [],
   "source": [
    "# Export Merged DF as csv\n",
    "mldf.to_csv(f\"../../{file_path}/ML_Demographic_LymeCase_HealthRank.csv\", index=False)"
   ]
  },
  {
   "cell_type": "markdown",
   "id": "cddf310b",
   "metadata": {},
   "source": [
    "## Split the Data into Training and Testing"
   ]
  },
  {
   "cell_type": "code",
   "execution_count": 24,
   "id": "3686a3e2",
   "metadata": {
    "scrolled": true
   },
   "outputs": [
    {
     "data": {
      "text/plain": [
       "0    1878\n",
       "1     783\n",
       "2     235\n",
       "3     117\n",
       "Name: Norm_Incidence_Bin, dtype: int64"
      ]
     },
     "execution_count": 24,
     "metadata": {},
     "output_type": "execute_result"
    }
   ],
   "source": [
    "# Create our features\n",
    "X = mldf.drop(axis=1, columns='Norm_Incidence_Bin')\n",
    "\n",
    "# Create our target\n",
    "y = mldf['Norm_Incidence_Bin']\n",
    "y.value_counts()"
   ]
  },
  {
   "cell_type": "code",
   "execution_count": 25,
   "id": "86355828",
   "metadata": {},
   "outputs": [
    {
     "data": {
      "text/html": [
       "<div>\n",
       "<style scoped>\n",
       "    .dataframe tbody tr th:only-of-type {\n",
       "        vertical-align: middle;\n",
       "    }\n",
       "\n",
       "    .dataframe tbody tr th {\n",
       "        vertical-align: top;\n",
       "    }\n",
       "\n",
       "    .dataframe thead th {\n",
       "        text-align: right;\n",
       "    }\n",
       "</style>\n",
       "<table border=\"1\" class=\"dataframe\">\n",
       "  <thead>\n",
       "    <tr style=\"text-align: right;\">\n",
       "      <th></th>\n",
       "      <th>FIPS</th>\n",
       "      <th>Lifespan_Rank</th>\n",
       "      <th>Life_Quality_Rank</th>\n",
       "      <th>Health_Behaviors_Rank</th>\n",
       "      <th>Clinical_Care_Rank</th>\n",
       "      <th>Social_Economic_Factors_Rank</th>\n",
       "      <th>Physical_Environment_Rank</th>\n",
       "      <th>Population</th>\n",
       "      <th>%&lt;18_Yrs_Old</th>\n",
       "      <th>%65_Yrs_Old_and_over</th>\n",
       "      <th>...</th>\n",
       "      <th>Hispanic(%)</th>\n",
       "      <th>Non-Hispanic_White(%)</th>\n",
       "      <th>Female(%)</th>\n",
       "      <th>Rural(%)</th>\n",
       "      <th>Life_Expectancy</th>\n",
       "      <th>Deaths(Count)</th>\n",
       "      <th>Lat</th>\n",
       "      <th>Long</th>\n",
       "      <th>Ticks_With_Lyme</th>\n",
       "      <th>Norm_Incidence</th>\n",
       "    </tr>\n",
       "  </thead>\n",
       "  <tbody>\n",
       "    <tr>\n",
       "      <th>count</th>\n",
       "      <td>3013.000000</td>\n",
       "      <td>3013.000000</td>\n",
       "      <td>3013.000000</td>\n",
       "      <td>3013.000000</td>\n",
       "      <td>3013.000000</td>\n",
       "      <td>3013.000000</td>\n",
       "      <td>3013.000000</td>\n",
       "      <td>3.013000e+03</td>\n",
       "      <td>3013.000000</td>\n",
       "      <td>3013.000000</td>\n",
       "      <td>...</td>\n",
       "      <td>3013.000000</td>\n",
       "      <td>3013.000000</td>\n",
       "      <td>3013.000000</td>\n",
       "      <td>3013.000000</td>\n",
       "      <td>3013.000000</td>\n",
       "      <td>3013.000000</td>\n",
       "      <td>3013.000000</td>\n",
       "      <td>3013.000000</td>\n",
       "      <td>3013.000000</td>\n",
       "      <td>3013.000000</td>\n",
       "    </tr>\n",
       "    <tr>\n",
       "      <th>mean</th>\n",
       "      <td>30143.607700</td>\n",
       "      <td>47.004647</td>\n",
       "      <td>47.315632</td>\n",
       "      <td>47.492200</td>\n",
       "      <td>47.562562</td>\n",
       "      <td>47.479920</td>\n",
       "      <td>47.714570</td>\n",
       "      <td>1.068290e+05</td>\n",
       "      <td>22.281802</td>\n",
       "      <td>18.745456</td>\n",
       "      <td>...</td>\n",
       "      <td>9.429346</td>\n",
       "      <td>76.536893</td>\n",
       "      <td>49.907839</td>\n",
       "      <td>58.239300</td>\n",
       "      <td>77.445058</td>\n",
       "      <td>1225.150680</td>\n",
       "      <td>38.366096</td>\n",
       "      <td>-91.954839</td>\n",
       "      <td>0.137073</td>\n",
       "      <td>0.130944</td>\n",
       "    </tr>\n",
       "    <tr>\n",
       "      <th>std</th>\n",
       "      <td>15053.344197</td>\n",
       "      <td>41.618732</td>\n",
       "      <td>41.552463</td>\n",
       "      <td>41.732051</td>\n",
       "      <td>41.510817</td>\n",
       "      <td>41.660967</td>\n",
       "      <td>41.896352</td>\n",
       "      <td>3.393090e+05</td>\n",
       "      <td>3.380324</td>\n",
       "      <td>4.509754</td>\n",
       "      <td>...</td>\n",
       "      <td>13.777920</td>\n",
       "      <td>19.928270</td>\n",
       "      <td>2.201147</td>\n",
       "      <td>30.700675</td>\n",
       "      <td>2.912101</td>\n",
       "      <td>3207.772879</td>\n",
       "      <td>5.190837</td>\n",
       "      <td>12.395843</td>\n",
       "      <td>0.343981</td>\n",
       "      <td>0.415456</td>\n",
       "    </tr>\n",
       "    <tr>\n",
       "      <th>min</th>\n",
       "      <td>1001.000000</td>\n",
       "      <td>1.000000</td>\n",
       "      <td>1.000000</td>\n",
       "      <td>1.000000</td>\n",
       "      <td>1.000000</td>\n",
       "      <td>1.000000</td>\n",
       "      <td>1.000000</td>\n",
       "      <td>1.718000e+03</td>\n",
       "      <td>7.160000</td>\n",
       "      <td>4.770000</td>\n",
       "      <td>...</td>\n",
       "      <td>0.520000</td>\n",
       "      <td>2.760000</td>\n",
       "      <td>26.570000</td>\n",
       "      <td>0.000000</td>\n",
       "      <td>62.590000</td>\n",
       "      <td>20.000000</td>\n",
       "      <td>19.598700</td>\n",
       "      <td>-164.027200</td>\n",
       "      <td>0.000000</td>\n",
       "      <td>0.000000</td>\n",
       "    </tr>\n",
       "    <tr>\n",
       "      <th>25%</th>\n",
       "      <td>18157.000000</td>\n",
       "      <td>17.000000</td>\n",
       "      <td>17.000000</td>\n",
       "      <td>17.000000</td>\n",
       "      <td>17.000000</td>\n",
       "      <td>17.000000</td>\n",
       "      <td>17.000000</td>\n",
       "      <td>1.197600e+04</td>\n",
       "      <td>20.260000</td>\n",
       "      <td>15.850000</td>\n",
       "      <td>...</td>\n",
       "      <td>2.280000</td>\n",
       "      <td>64.870000</td>\n",
       "      <td>49.460000</td>\n",
       "      <td>33.710000</td>\n",
       "      <td>75.510000</td>\n",
       "      <td>189.000000</td>\n",
       "      <td>34.640500</td>\n",
       "      <td>-97.724600</td>\n",
       "      <td>0.000000</td>\n",
       "      <td>0.000000</td>\n",
       "    </tr>\n",
       "    <tr>\n",
       "      <th>50%</th>\n",
       "      <td>29107.000000</td>\n",
       "      <td>37.000000</td>\n",
       "      <td>38.000000</td>\n",
       "      <td>38.000000</td>\n",
       "      <td>38.000000</td>\n",
       "      <td>38.000000</td>\n",
       "      <td>38.000000</td>\n",
       "      <td>2.694700e+04</td>\n",
       "      <td>22.240000</td>\n",
       "      <td>18.410000</td>\n",
       "      <td>...</td>\n",
       "      <td>4.210000</td>\n",
       "      <td>83.850000</td>\n",
       "      <td>50.320000</td>\n",
       "      <td>58.910000</td>\n",
       "      <td>77.540000</td>\n",
       "      <td>417.000000</td>\n",
       "      <td>38.359600</td>\n",
       "      <td>-90.113800</td>\n",
       "      <td>0.000000</td>\n",
       "      <td>0.000000</td>\n",
       "    </tr>\n",
       "    <tr>\n",
       "      <th>75%</th>\n",
       "      <td>45017.000000</td>\n",
       "      <td>65.000000</td>\n",
       "      <td>65.000000</td>\n",
       "      <td>65.000000</td>\n",
       "      <td>65.000000</td>\n",
       "      <td>65.000000</td>\n",
       "      <td>65.000000</td>\n",
       "      <td>6.971300e+04</td>\n",
       "      <td>24.000000</td>\n",
       "      <td>21.180000</td>\n",
       "      <td>...</td>\n",
       "      <td>9.650000</td>\n",
       "      <td>92.540000</td>\n",
       "      <td>51.000000</td>\n",
       "      <td>83.870000</td>\n",
       "      <td>79.270000</td>\n",
       "      <td>1001.000000</td>\n",
       "      <td>41.724200</td>\n",
       "      <td>-83.493200</td>\n",
       "      <td>0.000000</td>\n",
       "      <td>0.035140</td>\n",
       "    </tr>\n",
       "    <tr>\n",
       "      <th>max</th>\n",
       "      <td>56045.000000</td>\n",
       "      <td>243.000000</td>\n",
       "      <td>244.000000</td>\n",
       "      <td>244.000000</td>\n",
       "      <td>243.000000</td>\n",
       "      <td>244.000000</td>\n",
       "      <td>244.000000</td>\n",
       "      <td>1.016351e+07</td>\n",
       "      <td>41.240000</td>\n",
       "      <td>56.940000</td>\n",
       "      <td>...</td>\n",
       "      <td>96.320000</td>\n",
       "      <td>97.920000</td>\n",
       "      <td>57.000000</td>\n",
       "      <td>100.000000</td>\n",
       "      <td>97.970000</td>\n",
       "      <td>83305.000000</td>\n",
       "      <td>69.312200</td>\n",
       "      <td>-67.628800</td>\n",
       "      <td>1.000000</td>\n",
       "      <td>5.830611</td>\n",
       "    </tr>\n",
       "  </tbody>\n",
       "</table>\n",
       "<p>8 rows × 25 columns</p>\n",
       "</div>"
      ],
      "text/plain": [
       "               FIPS  Lifespan_Rank  Life_Quality_Rank  Health_Behaviors_Rank  \\\n",
       "count   3013.000000    3013.000000        3013.000000            3013.000000   \n",
       "mean   30143.607700      47.004647          47.315632              47.492200   \n",
       "std    15053.344197      41.618732          41.552463              41.732051   \n",
       "min     1001.000000       1.000000           1.000000               1.000000   \n",
       "25%    18157.000000      17.000000          17.000000              17.000000   \n",
       "50%    29107.000000      37.000000          38.000000              38.000000   \n",
       "75%    45017.000000      65.000000          65.000000              65.000000   \n",
       "max    56045.000000     243.000000         244.000000             244.000000   \n",
       "\n",
       "       Clinical_Care_Rank  Social_Economic_Factors_Rank  \\\n",
       "count         3013.000000                   3013.000000   \n",
       "mean            47.562562                     47.479920   \n",
       "std             41.510817                     41.660967   \n",
       "min              1.000000                      1.000000   \n",
       "25%             17.000000                     17.000000   \n",
       "50%             38.000000                     38.000000   \n",
       "75%             65.000000                     65.000000   \n",
       "max            243.000000                    244.000000   \n",
       "\n",
       "       Physical_Environment_Rank    Population  %<18_Yrs_Old  \\\n",
       "count                3013.000000  3.013000e+03   3013.000000   \n",
       "mean                   47.714570  1.068290e+05     22.281802   \n",
       "std                    41.896352  3.393090e+05      3.380324   \n",
       "min                     1.000000  1.718000e+03      7.160000   \n",
       "25%                    17.000000  1.197600e+04     20.260000   \n",
       "50%                    38.000000  2.694700e+04     22.240000   \n",
       "75%                    65.000000  6.971300e+04     24.000000   \n",
       "max                   244.000000  1.016351e+07     41.240000   \n",
       "\n",
       "       %65_Yrs_Old_and_over  ...  Hispanic(%)  Non-Hispanic_White(%)  \\\n",
       "count           3013.000000  ...  3013.000000            3013.000000   \n",
       "mean              18.745456  ...     9.429346              76.536893   \n",
       "std                4.509754  ...    13.777920              19.928270   \n",
       "min                4.770000  ...     0.520000               2.760000   \n",
       "25%               15.850000  ...     2.280000              64.870000   \n",
       "50%               18.410000  ...     4.210000              83.850000   \n",
       "75%               21.180000  ...     9.650000              92.540000   \n",
       "max               56.940000  ...    96.320000              97.920000   \n",
       "\n",
       "         Female(%)     Rural(%)  Life_Expectancy  Deaths(Count)          Lat  \\\n",
       "count  3013.000000  3013.000000      3013.000000    3013.000000  3013.000000   \n",
       "mean     49.907839    58.239300        77.445058    1225.150680    38.366096   \n",
       "std       2.201147    30.700675         2.912101    3207.772879     5.190837   \n",
       "min      26.570000     0.000000        62.590000      20.000000    19.598700   \n",
       "25%      49.460000    33.710000        75.510000     189.000000    34.640500   \n",
       "50%      50.320000    58.910000        77.540000     417.000000    38.359600   \n",
       "75%      51.000000    83.870000        79.270000    1001.000000    41.724200   \n",
       "max      57.000000   100.000000        97.970000   83305.000000    69.312200   \n",
       "\n",
       "              Long  Ticks_With_Lyme  Norm_Incidence  \n",
       "count  3013.000000      3013.000000     3013.000000  \n",
       "mean    -91.954839         0.137073        0.130944  \n",
       "std      12.395843         0.343981        0.415456  \n",
       "min    -164.027200         0.000000        0.000000  \n",
       "25%     -97.724600         0.000000        0.000000  \n",
       "50%     -90.113800         0.000000        0.000000  \n",
       "75%     -83.493200         0.000000        0.035140  \n",
       "max     -67.628800         1.000000        5.830611  \n",
       "\n",
       "[8 rows x 25 columns]"
      ]
     },
     "execution_count": 25,
     "metadata": {},
     "output_type": "execute_result"
    }
   ],
   "source": [
    "X.describe()"
   ]
  },
  {
   "cell_type": "code",
   "execution_count": 26,
   "id": "d6139c52",
   "metadata": {},
   "outputs": [],
   "source": [
    "from sklearn.model_selection import train_test_split\n",
    "\n",
    "X_train, X_test, y_train, y_test = train_test_split(X, y, test_size = 0.25, random_state=1, stratify=y)\n",
    "X_train.shape\n",
    "\n",
    "# Feature scaling\n",
    "sc = StandardScaler()\n",
    "X_train = sc.fit_transform(X_train)\n",
    "X_test= sc.transform(X_test)"
   ]
  },
  {
   "cell_type": "markdown",
   "id": "b2bfc6f7",
   "metadata": {},
   "source": [
    "# Ensemble Learners"
   ]
  },
  {
   "cell_type": "markdown",
   "id": "677ba35c",
   "metadata": {},
   "source": [
    "In this section, you will compare two ensemble algorithms to determine which algorithm results in the best performance. You will train a Balanced Random Forest Classifier and an Easy Ensemble AdaBoost classifier.\n",
    "\n",
    "Note: Use a random state of 1 for each algorithm to ensure consistency between tests"
   ]
  },
  {
   "cell_type": "markdown",
   "id": "b6f63b9e",
   "metadata": {},
   "source": [
    "## Random Forest"
   ]
  },
  {
   "cell_type": "code",
   "execution_count": 27,
   "id": "98b3fa0e",
   "metadata": {},
   "outputs": [
    {
     "data": {
      "text/plain": [
       "BalancedRandomForestClassifier(random_state=1)"
      ]
     },
     "execution_count": 27,
     "metadata": {},
     "output_type": "execute_result"
    }
   ],
   "source": [
    "# Different model:\n",
    "# Resample the training data with the BalancedRandomForestClassifier\n",
    "from imblearn.ensemble import BalancedRandomForestClassifier\n",
    "\n",
    "# Create a random forest classifier model\n",
    "brf = BalancedRandomForestClassifier(n_estimators=100, random_state=1)\n",
    "\n",
    "# Fit the model \n",
    "brf.fit(X_train, y_train)"
   ]
  },
  {
   "cell_type": "markdown",
   "id": "b6495f95",
   "metadata": {},
   "source": [
    "## Pickle the model"
   ]
  },
  {
   "cell_type": "code",
   "execution_count": 28,
   "id": "9c3fed54",
   "metadata": {},
   "outputs": [],
   "source": [
    "# saves a Python object to a pickled file using a relative path from the ../data/ directory.\n",
    "pickle.dump(brf, open('../pickle_data/brfmodel.pkl', 'wb'))"
   ]
  },
  {
   "cell_type": "code",
   "execution_count": 29,
   "id": "9bbb7bb7",
   "metadata": {},
   "outputs": [],
   "source": [
    "# Load the model as an object\n",
    "pickled_model = pickle.load(open('../pickle_data/brfmodel.pkl', 'rb'))\n",
    "\n",
    "# Make predictions using the testing data\n",
    "predictions = pickled_model.predict(X_test)"
   ]
  },
  {
   "cell_type": "code",
   "execution_count": 30,
   "id": "619dd62b",
   "metadata": {},
   "outputs": [
    {
     "name": "stdout",
     "output_type": "stream",
     "text": [
      "Accuracy Score : 0.9961734693877551\n"
     ]
    }
   ],
   "source": [
    "# Calculated the balanced accuracy score\n",
    "acc_score = balanced_accuracy_score(y_test, predictions)\n",
    "print(f\"Accuracy Score : {acc_score}\")"
   ]
  },
  {
   "cell_type": "code",
   "execution_count": 31,
   "id": "654e9ca0",
   "metadata": {},
   "outputs": [
    {
     "data": {
      "text/html": [
       "<div>\n",
       "<style scoped>\n",
       "    .dataframe tbody tr th:only-of-type {\n",
       "        vertical-align: middle;\n",
       "    }\n",
       "\n",
       "    .dataframe tbody tr th {\n",
       "        vertical-align: top;\n",
       "    }\n",
       "\n",
       "    .dataframe thead th {\n",
       "        text-align: right;\n",
       "    }\n",
       "</style>\n",
       "<table border=\"1\" class=\"dataframe\">\n",
       "  <thead>\n",
       "    <tr style=\"text-align: right;\">\n",
       "      <th></th>\n",
       "      <th>0</th>\n",
       "      <th>1</th>\n",
       "      <th>2</th>\n",
       "      <th>3</th>\n",
       "    </tr>\n",
       "  </thead>\n",
       "  <tbody>\n",
       "    <tr>\n",
       "      <th>0</th>\n",
       "      <td>470</td>\n",
       "      <td>0</td>\n",
       "      <td>0</td>\n",
       "      <td>0</td>\n",
       "    </tr>\n",
       "    <tr>\n",
       "      <th>1</th>\n",
       "      <td>0</td>\n",
       "      <td>193</td>\n",
       "      <td>3</td>\n",
       "      <td>0</td>\n",
       "    </tr>\n",
       "    <tr>\n",
       "      <th>2</th>\n",
       "      <td>0</td>\n",
       "      <td>0</td>\n",
       "      <td>59</td>\n",
       "      <td>0</td>\n",
       "    </tr>\n",
       "    <tr>\n",
       "      <th>3</th>\n",
       "      <td>0</td>\n",
       "      <td>0</td>\n",
       "      <td>0</td>\n",
       "      <td>29</td>\n",
       "    </tr>\n",
       "  </tbody>\n",
       "</table>\n",
       "</div>"
      ],
      "text/plain": [
       "     0    1   2   3\n",
       "0  470    0   0   0\n",
       "1    0  193   3   0\n",
       "2    0    0  59   0\n",
       "3    0    0   0  29"
      ]
     },
     "execution_count": 31,
     "metadata": {},
     "output_type": "execute_result"
    }
   ],
   "source": [
    "matrix = confusion_matrix(y_test, predictions)\n",
    "cm_df = pd.DataFrame(matrix)\n",
    "cm_df"
   ]
  },
  {
   "cell_type": "code",
   "execution_count": 32,
   "id": "1a7f52f6",
   "metadata": {
    "scrolled": false
   },
   "outputs": [
    {
     "name": "stdout",
     "output_type": "stream",
     "text": [
      "                   pre       rec       spe        f1       geo       iba       sup\n",
      "\n",
      "          0       1.00      1.00      1.00      1.00      1.00      1.00       470\n",
      "          1       1.00      0.98      1.00      0.99      0.99      0.98       196\n",
      "          2       0.95      1.00      1.00      0.98      1.00      1.00        59\n",
      "          3       1.00      1.00      1.00      1.00      1.00      1.00        29\n",
      "\n",
      "avg / total       1.00      1.00      1.00      1.00      1.00      1.00       754\n",
      "\n"
     ]
    }
   ],
   "source": [
    "print(classification_report_imbalanced(y_test, predictions))"
   ]
  },
  {
   "cell_type": "code",
   "execution_count": 33,
   "id": "fce39f47",
   "metadata": {},
   "outputs": [
    {
     "data": {
      "text/plain": [
       "[(0.4479376904388069, 'Norm_Incidence'),\n",
       " (0.07312155022527027, 'Long'),\n",
       " (0.05149401713673821, 'Lat'),\n",
       " (0.038118020440941515, '%<18_Yrs_Old'),\n",
       " (0.033686713495919764, 'FIPS'),\n",
       " (0.03337060203127531, 'Non-Hispanic_White(%)'),\n",
       " (0.03326504267559197, 'Population'),\n",
       " (0.02875550569222594, 'Deaths(Count)'),\n",
       " (0.023776336543311676, 'African_American(%)'),\n",
       " (0.021380188865088714, 'Income($)'),\n",
       " (0.01937402689440424, 'Life_Expectancy'),\n",
       " (0.01927267266355201, 'American_Indian/Alaskan_Native(%)'),\n",
       " (0.01811585689748836, 'Rural(%)'),\n",
       " (0.017171423863487547, 'Asian(%)'),\n",
       " (0.016948088621297437, 'Hispanic(%)'),\n",
       " (0.01504694097037207, 'Physical_Environment_Rank'),\n",
       " (0.01465408341474304, '%65_Yrs_Old_and_over'),\n",
       " (0.01341955271385356, 'Clinical_Care_Rank'),\n",
       " (0.012807588309722194, 'Life_Quality_Rank'),\n",
       " (0.01242964559789009, 'Lifespan_Rank'),\n",
       " (0.012367538791152129, 'Female(%)'),\n",
       " (0.01204644264046228, 'Social_Economic_Factors_Rank'),\n",
       " (0.01098744875244303, 'Health_Behaviors_Rank'),\n",
       " (0.010910297908413278, 'Native_Hawaiian/Other_Pacific_Islander(%)'),\n",
       " (0.009542724415548423, 'Ticks_With_Lyme')]"
      ]
     },
     "execution_count": 33,
     "metadata": {},
     "output_type": "execute_result"
    }
   ],
   "source": [
    "# List the features sorted in descending order by feature importance\n",
    "sorted(zip(brf.feature_importances_, X.columns), reverse= True)"
   ]
  },
  {
   "cell_type": "markdown",
   "id": "b6014f79",
   "metadata": {},
   "source": [
    "## Easy Ensemble"
   ]
  },
  {
   "cell_type": "code",
   "execution_count": 34,
   "id": "bda2a0ec",
   "metadata": {},
   "outputs": [
    {
     "data": {
      "text/plain": [
       "EasyEnsembleClassifier(n_estimators=100, random_state=1)"
      ]
     },
     "execution_count": 34,
     "metadata": {},
     "output_type": "execute_result"
    }
   ],
   "source": [
    "# Train the EasyEnsembleClassifier\n",
    "from imblearn.ensemble import EasyEnsembleClassifier\n",
    "eec = EasyEnsembleClassifier(n_estimators=100, random_state=1)\n",
    "eec.fit(X_train, y_train) "
   ]
  },
  {
   "cell_type": "code",
   "execution_count": 35,
   "id": "0e04e92f",
   "metadata": {},
   "outputs": [],
   "source": [
    "# saves a Python object to a pickled file using a relative path from the ../data/ directory.\n",
    "pickle.dump(eec, open('../pickle_data/easyensemble.pkl', 'wb'))"
   ]
  },
  {
   "cell_type": "code",
   "execution_count": 36,
   "id": "a9601a4e",
   "metadata": {},
   "outputs": [],
   "source": [
    "# Load the model as an object\n",
    "pickled_model = pickle.load(open('../pickle_data/easyensemble.pkl', 'rb'))\n",
    "\n",
    "# Make predictions using the testing data\n",
    "predictions = pickled_model.predict(X_test)"
   ]
  },
  {
   "cell_type": "code",
   "execution_count": 37,
   "id": "551c2a08",
   "metadata": {},
   "outputs": [
    {
     "name": "stdout",
     "output_type": "stream",
     "text": [
      "Accuracy Score : 0.75\n"
     ]
    }
   ],
   "source": [
    "# Calculated the balanced accuracy score\n",
    "acc_score2 = balanced_accuracy_score(y_test, predictions)\n",
    "print(f\"Accuracy Score : {acc_score2}\")"
   ]
  },
  {
   "cell_type": "code",
   "execution_count": 38,
   "id": "be53b5e7",
   "metadata": {},
   "outputs": [
    {
     "data": {
      "text/html": [
       "<div>\n",
       "<style scoped>\n",
       "    .dataframe tbody tr th:only-of-type {\n",
       "        vertical-align: middle;\n",
       "    }\n",
       "\n",
       "    .dataframe tbody tr th {\n",
       "        vertical-align: top;\n",
       "    }\n",
       "\n",
       "    .dataframe thead th {\n",
       "        text-align: right;\n",
       "    }\n",
       "</style>\n",
       "<table border=\"1\" class=\"dataframe\">\n",
       "  <thead>\n",
       "    <tr style=\"text-align: right;\">\n",
       "      <th></th>\n",
       "      <th>0</th>\n",
       "      <th>1</th>\n",
       "      <th>2</th>\n",
       "      <th>3</th>\n",
       "    </tr>\n",
       "  </thead>\n",
       "  <tbody>\n",
       "    <tr>\n",
       "      <th>0</th>\n",
       "      <td>470</td>\n",
       "      <td>0</td>\n",
       "      <td>0</td>\n",
       "      <td>0</td>\n",
       "    </tr>\n",
       "    <tr>\n",
       "      <th>1</th>\n",
       "      <td>0</td>\n",
       "      <td>196</td>\n",
       "      <td>0</td>\n",
       "      <td>0</td>\n",
       "    </tr>\n",
       "    <tr>\n",
       "      <th>2</th>\n",
       "      <td>0</td>\n",
       "      <td>59</td>\n",
       "      <td>0</td>\n",
       "      <td>0</td>\n",
       "    </tr>\n",
       "    <tr>\n",
       "      <th>3</th>\n",
       "      <td>0</td>\n",
       "      <td>0</td>\n",
       "      <td>0</td>\n",
       "      <td>29</td>\n",
       "    </tr>\n",
       "  </tbody>\n",
       "</table>\n",
       "</div>"
      ],
      "text/plain": [
       "     0    1  2   3\n",
       "0  470    0  0   0\n",
       "1    0  196  0   0\n",
       "2    0   59  0   0\n",
       "3    0    0  0  29"
      ]
     },
     "execution_count": 38,
     "metadata": {},
     "output_type": "execute_result"
    }
   ],
   "source": [
    "# Display the confusion matrix\n",
    "matrix = confusion_matrix(y_test, predictions)\n",
    "cm_df = pd.DataFrame(matrix)\n",
    "cm_df"
   ]
  },
  {
   "cell_type": "markdown",
   "id": "14bb1c96",
   "metadata": {},
   "source": [
    "# Oversampling"
   ]
  },
  {
   "cell_type": "markdown",
   "id": "f5e6babb",
   "metadata": {},
   "source": [
    "In this section, you will compare two oversampling algorithms to determine which algorithm results in the best performance. You will oversample the data using the naive random oversampling algorithm and the `SMOTE` algorithm. \n",
    "\n",
    "Note: Use a random state of 1 for each sampling algorithm to ensure consistency between tests"
   ]
  },
  {
   "cell_type": "markdown",
   "id": "5f6566ab",
   "metadata": {},
   "source": [
    "### Naive Random Oversampling"
   ]
  },
  {
   "cell_type": "code",
   "execution_count": 39,
   "id": "a9872329",
   "metadata": {},
   "outputs": [
    {
     "data": {
      "text/plain": [
       "Counter({0: 1408, 1: 1408, 3: 1408, 2: 1408})"
      ]
     },
     "execution_count": 39,
     "metadata": {},
     "output_type": "execute_result"
    }
   ],
   "source": [
    "# Resample the training data with the RandomOversampler\n",
    "from imblearn.over_sampling import RandomOverSampler\n",
    "ros = RandomOverSampler(random_state=1)\n",
    "X_resampled, y_resampled = ros.fit_resample(X_train, y_train)\n",
    "Counter(y_resampled)"
   ]
  },
  {
   "cell_type": "code",
   "execution_count": 40,
   "id": "9e82fc48",
   "metadata": {},
   "outputs": [
    {
     "data": {
      "text/plain": [
       "LogisticRegression(random_state=1)"
      ]
     },
     "execution_count": 40,
     "metadata": {},
     "output_type": "execute_result"
    }
   ],
   "source": [
    "# Train the Logistic Regression model using the resampled data\n",
    "from sklearn.linear_model import LogisticRegression\n",
    "classifier = LogisticRegression(random_state=1)\n",
    "classifier.fit(X_resampled, y_resampled)"
   ]
  },
  {
   "cell_type": "markdown",
   "id": "fbcaa2bc",
   "metadata": {},
   "source": [
    "## Pickle the model"
   ]
  },
  {
   "cell_type": "code",
   "execution_count": 41,
   "id": "1009992e",
   "metadata": {},
   "outputs": [],
   "source": [
    "# saves a Python object to a pickled file using a relative path from the ../data/ directory.\n",
    "pickle.dump(classifier, open('../pickle_data/naiveoversample.pkl', 'wb'))"
   ]
  },
  {
   "cell_type": "code",
   "execution_count": 42,
   "id": "18922a75",
   "metadata": {},
   "outputs": [],
   "source": [
    "# Load the model as an object\n",
    "pickled_model = pickle.load(open('../pickle_data/naiveoversample.pkl', 'rb'))\n",
    "\n",
    "# Make predictions using the testing data\n",
    "predictions = pickled_model.predict(X_test)"
   ]
  },
  {
   "cell_type": "code",
   "execution_count": 43,
   "id": "6cf5a7c1",
   "metadata": {},
   "outputs": [
    {
     "name": "stdout",
     "output_type": "stream",
     "text": [
      "0.9241301368402913\n"
     ]
    }
   ],
   "source": [
    "# Calculated the balanced accuracy score\n",
    "print(balanced_accuracy_score(y_test, predictions))"
   ]
  },
  {
   "cell_type": "code",
   "execution_count": 44,
   "id": "69fef158",
   "metadata": {},
   "outputs": [
    {
     "data": {
      "text/html": [
       "<div>\n",
       "<style scoped>\n",
       "    .dataframe tbody tr th:only-of-type {\n",
       "        vertical-align: middle;\n",
       "    }\n",
       "\n",
       "    .dataframe tbody tr th {\n",
       "        vertical-align: top;\n",
       "    }\n",
       "\n",
       "    .dataframe thead th {\n",
       "        text-align: right;\n",
       "    }\n",
       "</style>\n",
       "<table border=\"1\" class=\"dataframe\">\n",
       "  <thead>\n",
       "    <tr style=\"text-align: right;\">\n",
       "      <th></th>\n",
       "      <th>0</th>\n",
       "      <th>1</th>\n",
       "      <th>2</th>\n",
       "      <th>3</th>\n",
       "    </tr>\n",
       "  </thead>\n",
       "  <tbody>\n",
       "    <tr>\n",
       "      <th>0</th>\n",
       "      <td>442</td>\n",
       "      <td>28</td>\n",
       "      <td>0</td>\n",
       "      <td>0</td>\n",
       "    </tr>\n",
       "    <tr>\n",
       "      <th>1</th>\n",
       "      <td>16</td>\n",
       "      <td>175</td>\n",
       "      <td>5</td>\n",
       "      <td>0</td>\n",
       "    </tr>\n",
       "    <tr>\n",
       "      <th>2</th>\n",
       "      <td>0</td>\n",
       "      <td>2</td>\n",
       "      <td>55</td>\n",
       "      <td>2</td>\n",
       "    </tr>\n",
       "    <tr>\n",
       "      <th>3</th>\n",
       "      <td>0</td>\n",
       "      <td>0</td>\n",
       "      <td>2</td>\n",
       "      <td>27</td>\n",
       "    </tr>\n",
       "  </tbody>\n",
       "</table>\n",
       "</div>"
      ],
      "text/plain": [
       "     0    1   2   3\n",
       "0  442   28   0   0\n",
       "1   16  175   5   0\n",
       "2    0    2  55   2\n",
       "3    0    0   2  27"
      ]
     },
     "execution_count": 44,
     "metadata": {},
     "output_type": "execute_result"
    }
   ],
   "source": [
    "# Display the confusion matrix\n",
    "from sklearn.metrics import confusion_matrix, classification_report \n",
    "\n",
    "matrix = confusion_matrix(y_test, predictions)\n",
    "cm_df = pd.DataFrame(\n",
    "    matrix)\n",
    "cm_df"
   ]
  },
  {
   "cell_type": "code",
   "execution_count": 45,
   "id": "35b5324a",
   "metadata": {
    "scrolled": true
   },
   "outputs": [
    {
     "name": "stdout",
     "output_type": "stream",
     "text": [
      "                   pre       rec       spe        f1       geo       iba       sup\n",
      "\n",
      "          0       0.97      0.94      0.94      0.95      0.94      0.89       470\n",
      "          1       0.85      0.89      0.95      0.87      0.92      0.84       196\n",
      "          2       0.89      0.93      0.99      0.91      0.96      0.92        59\n",
      "          3       0.93      0.93      1.00      0.93      0.96      0.92        29\n",
      "\n",
      "avg / total       0.93      0.93      0.95      0.93      0.94      0.88       754\n",
      "\n"
     ]
    }
   ],
   "source": [
    "print(classification_report_imbalanced(y_test, predictions))"
   ]
  },
  {
   "cell_type": "markdown",
   "id": "3d22f75e",
   "metadata": {},
   "source": [
    "### SMOTE Oversampling"
   ]
  },
  {
   "cell_type": "code",
   "execution_count": 46,
   "id": "6de28f4e",
   "metadata": {},
   "outputs": [
    {
     "data": {
      "text/plain": [
       "Counter({0: 1408, 1: 1408, 3: 1408, 2: 1408})"
      ]
     },
     "execution_count": 46,
     "metadata": {},
     "output_type": "execute_result"
    }
   ],
   "source": [
    "# Resample the training data with SMOTE\n",
    "from imblearn.over_sampling import SMOTE\n",
    "X_resampled, y_resampled = SMOTE(random_state=1,\n",
    "sampling_strategy='auto').fit_resample(\n",
    "   X_train, y_train)\n",
    "Counter(y_resampled)"
   ]
  },
  {
   "cell_type": "code",
   "execution_count": 47,
   "id": "3d1022cc",
   "metadata": {},
   "outputs": [
    {
     "data": {
      "text/plain": [
       "LogisticRegression(random_state=1)"
      ]
     },
     "execution_count": 47,
     "metadata": {},
     "output_type": "execute_result"
    }
   ],
   "source": [
    "# Train the Logistic Regression model using the resampled data\n",
    "classifier2 = LogisticRegression(random_state=1)\n",
    "classifier2.fit(X_resampled, y_resampled)\n",
    "# Create a random forest classifier model\n",
    "# brf = BalancedRandomForestClassifier(n_estimators=100, random_state=1)\n",
    "\n",
    "# # Fit the model \n",
    "# brf.fit(X_resampled, y_resampled)"
   ]
  },
  {
   "cell_type": "markdown",
   "id": "c05ecce1",
   "metadata": {},
   "source": [
    "## Pickle the model"
   ]
  },
  {
   "cell_type": "code",
   "execution_count": 48,
   "id": "0ac6d47f",
   "metadata": {},
   "outputs": [],
   "source": [
    "# saves a Python object to a pickled file using a relative path from the ../data/ directory.\n",
    "pickle.dump(classifier2, open('../pickle_data/smotemodel.pkl', 'wb'))"
   ]
  },
  {
   "cell_type": "code",
   "execution_count": 49,
   "id": "23f94c8b",
   "metadata": {
    "scrolled": false
   },
   "outputs": [],
   "source": [
    "# Load the model as an object\n",
    "pickled_model = pickle.load(open('../pickle_data/smotemodel.pkl', 'rb'))\n",
    "\n",
    "# Make predictions using the testing data\n",
    "predictions = pickled_model.predict(X_test)"
   ]
  },
  {
   "cell_type": "code",
   "execution_count": 50,
   "id": "6da009a6",
   "metadata": {},
   "outputs": [
    {
     "data": {
      "text/html": [
       "<div>\n",
       "<style scoped>\n",
       "    .dataframe tbody tr th:only-of-type {\n",
       "        vertical-align: middle;\n",
       "    }\n",
       "\n",
       "    .dataframe tbody tr th {\n",
       "        vertical-align: top;\n",
       "    }\n",
       "\n",
       "    .dataframe thead th {\n",
       "        text-align: right;\n",
       "    }\n",
       "</style>\n",
       "<table border=\"1\" class=\"dataframe\">\n",
       "  <thead>\n",
       "    <tr style=\"text-align: right;\">\n",
       "      <th></th>\n",
       "      <th>0</th>\n",
       "      <th>1</th>\n",
       "      <th>2</th>\n",
       "      <th>3</th>\n",
       "    </tr>\n",
       "  </thead>\n",
       "  <tbody>\n",
       "    <tr>\n",
       "      <th>0</th>\n",
       "      <td>447</td>\n",
       "      <td>23</td>\n",
       "      <td>0</td>\n",
       "      <td>0</td>\n",
       "    </tr>\n",
       "    <tr>\n",
       "      <th>1</th>\n",
       "      <td>20</td>\n",
       "      <td>171</td>\n",
       "      <td>5</td>\n",
       "      <td>0</td>\n",
       "    </tr>\n",
       "    <tr>\n",
       "      <th>2</th>\n",
       "      <td>0</td>\n",
       "      <td>4</td>\n",
       "      <td>53</td>\n",
       "      <td>2</td>\n",
       "    </tr>\n",
       "    <tr>\n",
       "      <th>3</th>\n",
       "      <td>0</td>\n",
       "      <td>0</td>\n",
       "      <td>0</td>\n",
       "      <td>29</td>\n",
       "    </tr>\n",
       "  </tbody>\n",
       "</table>\n",
       "</div>"
      ],
      "text/plain": [
       "     0    1   2   3\n",
       "0  447   23   0   0\n",
       "1   20  171   5   0\n",
       "2    0    4  53   2\n",
       "3    0    0   0  29"
      ]
     },
     "execution_count": 50,
     "metadata": {},
     "output_type": "execute_result"
    }
   ],
   "source": [
    "# Display the confusion matrix\n",
    "from sklearn.metrics import confusion_matrix, classification_report \n",
    "\n",
    "matrix = confusion_matrix(y_test, predictions)\n",
    "cm_df = pd.DataFrame(\n",
    "    matrix)\n",
    "cm_df"
   ]
  },
  {
   "cell_type": "code",
   "execution_count": 51,
   "id": "ea0c102d",
   "metadata": {
    "scrolled": true
   },
   "outputs": [
    {
     "name": "stdout",
     "output_type": "stream",
     "text": [
      "                   pre       rec       spe        f1       geo       iba       sup\n",
      "\n",
      "          0       0.96      0.95      0.93      0.95      0.94      0.89       470\n",
      "          1       0.86      0.87      0.95      0.87      0.91      0.82       196\n",
      "          2       0.91      0.90      0.99      0.91      0.94      0.88        59\n",
      "          3       0.94      1.00      1.00      0.97      1.00      1.00        29\n",
      "\n",
      "avg / total       0.93      0.93      0.94      0.93      0.94      0.87       754\n",
      "\n"
     ]
    }
   ],
   "source": [
    "from imblearn.metrics import classification_report_imbalanced \n",
    "print(classification_report_imbalanced(y_test, predictions))"
   ]
  },
  {
   "cell_type": "code",
   "execution_count": 52,
   "id": "d4b6f602",
   "metadata": {},
   "outputs": [
    {
     "name": "stdout",
     "output_type": "stream",
     "text": [
      "0.9304544735312084\n"
     ]
    }
   ],
   "source": [
    "# Calculated the balanced accuracy score\n",
    "from sklearn.metrics import balanced_accuracy_score\n",
    "\n",
    "print(balanced_accuracy_score(y_test, predictions))"
   ]
  },
  {
   "cell_type": "markdown",
   "id": "1f0292de",
   "metadata": {},
   "source": [
    "# Undersampling\n",
    "\n",
    "In this section, you will test an undersampling algorithms to determine which algorithm results in the best performance compared to the oversampling algorithms above. \n",
    "\n",
    "Note: Use a random state of 1 for each sampling algorithm to ensure consistency between tests"
   ]
  },
  {
   "cell_type": "code",
   "execution_count": 53,
   "id": "ce70764d",
   "metadata": {},
   "outputs": [
    {
     "data": {
      "text/plain": [
       "Counter({0: 88, 1: 88, 2: 88, 3: 88})"
      ]
     },
     "execution_count": 53,
     "metadata": {},
     "output_type": "execute_result"
    }
   ],
   "source": [
    "# Resample the data using the ClusterCentroids resampler\n",
    "# Warning: This is a large dataset, and this step may take some time to complete\n",
    "from imblearn.under_sampling import RandomUnderSampler\n",
    "rus = RandomUnderSampler(random_state=1)\n",
    "X_resampled, y_resampled = rus.fit_resample(X_train, y_train)\n",
    "Counter(y_resampled)"
   ]
  },
  {
   "cell_type": "code",
   "execution_count": 54,
   "id": "d18339e1",
   "metadata": {},
   "outputs": [
    {
     "data": {
      "text/plain": [
       "LogisticRegression(random_state=1)"
      ]
     },
     "execution_count": 54,
     "metadata": {},
     "output_type": "execute_result"
    }
   ],
   "source": [
    "# Create Logistic Regression model\n",
    "classifier3 = LogisticRegression(random_state=1)\n",
    "classifier3.fit(X_resampled, y_resampled)\n",
    "\n",
    "# # Create a random forest classifier model\n",
    "# brf = BalancedRandomForestClassifier(n_estimators=100, random_state=1)\n",
    "\n",
    "# # Fit the model \n",
    "# brf.fit(X_resampled, y_resampled)"
   ]
  },
  {
   "cell_type": "code",
   "execution_count": 55,
   "id": "bbc914db",
   "metadata": {},
   "outputs": [],
   "source": [
    "# saves a Python object to a pickled file using a relative path from the ../data/ directory.\n",
    "pickle.dump(classifier3, open('../pickle_data/undersample.pkl', 'wb'))"
   ]
  },
  {
   "cell_type": "code",
   "execution_count": 56,
   "id": "bc97f5ce",
   "metadata": {},
   "outputs": [],
   "source": [
    "# Load the model as an object\n",
    "pickled_model = pickle.load(open('../pickle_data/undersample.pkl', 'rb'))\n",
    "\n",
    "# Make predictions using the testing data\n",
    "predictions = pickled_model.predict(X_test)"
   ]
  },
  {
   "cell_type": "code",
   "execution_count": 57,
   "id": "fc05da3e",
   "metadata": {},
   "outputs": [
    {
     "name": "stdout",
     "output_type": "stream",
     "text": [
      "0.8359421318672339\n"
     ]
    }
   ],
   "source": [
    "# Calculated the balanced accuracy score\n",
    "print(balanced_accuracy_score(y_test, predictions))"
   ]
  },
  {
   "cell_type": "code",
   "execution_count": 58,
   "id": "b3b3b9db",
   "metadata": {},
   "outputs": [
    {
     "data": {
      "text/html": [
       "<div>\n",
       "<style scoped>\n",
       "    .dataframe tbody tr th:only-of-type {\n",
       "        vertical-align: middle;\n",
       "    }\n",
       "\n",
       "    .dataframe tbody tr th {\n",
       "        vertical-align: top;\n",
       "    }\n",
       "\n",
       "    .dataframe thead th {\n",
       "        text-align: right;\n",
       "    }\n",
       "</style>\n",
       "<table border=\"1\" class=\"dataframe\">\n",
       "  <thead>\n",
       "    <tr style=\"text-align: right;\">\n",
       "      <th></th>\n",
       "      <th>0</th>\n",
       "      <th>1</th>\n",
       "      <th>2</th>\n",
       "      <th>3</th>\n",
       "    </tr>\n",
       "  </thead>\n",
       "  <tbody>\n",
       "    <tr>\n",
       "      <th>0</th>\n",
       "      <td>399</td>\n",
       "      <td>70</td>\n",
       "      <td>1</td>\n",
       "      <td>0</td>\n",
       "    </tr>\n",
       "    <tr>\n",
       "      <th>1</th>\n",
       "      <td>44</td>\n",
       "      <td>127</td>\n",
       "      <td>25</td>\n",
       "      <td>0</td>\n",
       "    </tr>\n",
       "    <tr>\n",
       "      <th>2</th>\n",
       "      <td>0</td>\n",
       "      <td>5</td>\n",
       "      <td>52</td>\n",
       "      <td>2</td>\n",
       "    </tr>\n",
       "    <tr>\n",
       "      <th>3</th>\n",
       "      <td>0</td>\n",
       "      <td>0</td>\n",
       "      <td>1</td>\n",
       "      <td>28</td>\n",
       "    </tr>\n",
       "  </tbody>\n",
       "</table>\n",
       "</div>"
      ],
      "text/plain": [
       "     0    1   2   3\n",
       "0  399   70   1   0\n",
       "1   44  127  25   0\n",
       "2    0    5  52   2\n",
       "3    0    0   1  28"
      ]
     },
     "execution_count": 58,
     "metadata": {},
     "output_type": "execute_result"
    }
   ],
   "source": [
    "# Display the confusion matrix\n",
    "from sklearn.metrics import confusion_matrix, classification_report \n",
    "\n",
    "matrix = confusion_matrix(y_test, predictions)\n",
    "cm_df = pd.DataFrame(\n",
    "    matrix)\n",
    "cm_df"
   ]
  },
  {
   "cell_type": "code",
   "execution_count": 59,
   "id": "2602dc71",
   "metadata": {
    "scrolled": true
   },
   "outputs": [
    {
     "name": "stdout",
     "output_type": "stream",
     "text": [
      "                   pre       rec       spe        f1       geo       iba       sup\n",
      "\n",
      "          0       0.90      0.85      0.85      0.87      0.85      0.72       470\n",
      "          1       0.63      0.65      0.87      0.64      0.75      0.55       196\n",
      "          2       0.66      0.88      0.96      0.75      0.92      0.84        59\n",
      "          3       0.93      0.97      1.00      0.95      0.98      0.96        29\n",
      "\n",
      "avg / total       0.81      0.80      0.87      0.81      0.83      0.69       754\n",
      "\n"
     ]
    }
   ],
   "source": [
    "# Print the imbalanced classification report\n",
    "print(classification_report_imbalanced(y_test, predictions))"
   ]
  },
  {
   "cell_type": "markdown",
   "id": "0276898d",
   "metadata": {},
   "source": [
    "# Combination (Over and Under) Sampling\n",
    "\n",
    "In this section, you will test a combination over- and under-sampling algorithm to determine if the algorithm results in the best performance compared to the other sampling algorithms above. \n",
    "\n",
    "Note: Use a random state of 1 for each sampling algorithm to ensure consistency between tests"
   ]
  },
  {
   "cell_type": "code",
   "execution_count": 60,
   "id": "31530a3c",
   "metadata": {},
   "outputs": [
    {
     "data": {
      "text/plain": [
       "Counter({0: 913, 1: 783, 2: 985, 3: 1244})"
      ]
     },
     "execution_count": 60,
     "metadata": {},
     "output_type": "execute_result"
    }
   ],
   "source": [
    "# Resample the training data with SMOTEENN\n",
    "# Warning: This is a large dataset, and this step may take some time to complete\n",
    "from imblearn.combine import SMOTEENN\n",
    "\n",
    "smote_enn = SMOTEENN(random_state=1)\n",
    "X_resampled, y_resampled = smote_enn.fit_resample(X, y)\n",
    "Counter(y_resampled)"
   ]
  },
  {
   "cell_type": "code",
   "execution_count": 61,
   "id": "4327c871",
   "metadata": {},
   "outputs": [
    {
     "data": {
      "text/plain": [
       "LogisticRegression(random_state=1)"
      ]
     },
     "execution_count": 61,
     "metadata": {},
     "output_type": "execute_result"
    }
   ],
   "source": [
    "# Train the Logistic Regression model using the resampled data\n",
    "classifier4 = LogisticRegression(random_state=1)\n",
    "classifier4.fit(X_resampled, y_resampled)\n",
    "\n",
    "# # Create a random forest classifier model\n",
    "# brf = BalancedRandomForestClassifier(n_estimators=100, random_state=1)\n",
    "\n",
    "# # Fit the model \n",
    "# brf.fit(X_resampled, y_resampled)"
   ]
  },
  {
   "cell_type": "code",
   "execution_count": 62,
   "id": "75b7ffb7",
   "metadata": {},
   "outputs": [],
   "source": [
    "# saves a Python object to a pickled file using a relative path from the ../data/ directory.\n",
    "pickle.dump(classifier4, open('../pickle_data/SMOTEENN.pkl', 'wb'))"
   ]
  },
  {
   "cell_type": "code",
   "execution_count": 63,
   "id": "4caa35f0",
   "metadata": {
    "scrolled": false
   },
   "outputs": [],
   "source": [
    "# Load the model as an object\n",
    "pickled_model = pickle.load(open('../pickle_data/SMOTEENN.pkl', 'rb'))\n",
    "\n",
    "# Make predictions using the testing data\n",
    "predictions = pickled_model.predict(X_test)"
   ]
  },
  {
   "cell_type": "code",
   "execution_count": 64,
   "id": "aa4a7989",
   "metadata": {
    "scrolled": true
   },
   "outputs": [],
   "source": [
    "# X_test.to_dict('records')[0]"
   ]
  },
  {
   "cell_type": "code",
   "execution_count": 65,
   "id": "1d842cdd",
   "metadata": {},
   "outputs": [],
   "source": [
    "# # Export Merged DF as csv\n",
    "# X_test.to_csv(f\"../../{file_path}/pickle_tests.csv\", index=False)"
   ]
  },
  {
   "cell_type": "code",
   "execution_count": 66,
   "id": "601f1b1a",
   "metadata": {},
   "outputs": [
    {
     "name": "stdout",
     "output_type": "stream",
     "text": [
      "0.33176035793528275\n"
     ]
    }
   ],
   "source": [
    "# Calculated the balanced accuracy score\n",
    "print(balanced_accuracy_score(y_test, predictions))"
   ]
  },
  {
   "cell_type": "code",
   "execution_count": 67,
   "id": "cd644388",
   "metadata": {},
   "outputs": [
    {
     "data": {
      "text/html": [
       "<div>\n",
       "<style scoped>\n",
       "    .dataframe tbody tr th:only-of-type {\n",
       "        vertical-align: middle;\n",
       "    }\n",
       "\n",
       "    .dataframe tbody tr th {\n",
       "        vertical-align: top;\n",
       "    }\n",
       "\n",
       "    .dataframe thead th {\n",
       "        text-align: right;\n",
       "    }\n",
       "</style>\n",
       "<table border=\"1\" class=\"dataframe\">\n",
       "  <thead>\n",
       "    <tr style=\"text-align: right;\">\n",
       "      <th></th>\n",
       "      <th>0</th>\n",
       "      <th>1</th>\n",
       "      <th>2</th>\n",
       "      <th>3</th>\n",
       "    </tr>\n",
       "  </thead>\n",
       "  <tbody>\n",
       "    <tr>\n",
       "      <th>0</th>\n",
       "      <td>184</td>\n",
       "      <td>13</td>\n",
       "      <td>118</td>\n",
       "      <td>155</td>\n",
       "    </tr>\n",
       "    <tr>\n",
       "      <th>1</th>\n",
       "      <td>78</td>\n",
       "      <td>1</td>\n",
       "      <td>21</td>\n",
       "      <td>96</td>\n",
       "    </tr>\n",
       "    <tr>\n",
       "      <th>2</th>\n",
       "      <td>17</td>\n",
       "      <td>0</td>\n",
       "      <td>2</td>\n",
       "      <td>40</td>\n",
       "    </tr>\n",
       "    <tr>\n",
       "      <th>3</th>\n",
       "      <td>3</td>\n",
       "      <td>0</td>\n",
       "      <td>0</td>\n",
       "      <td>26</td>\n",
       "    </tr>\n",
       "  </tbody>\n",
       "</table>\n",
       "</div>"
      ],
      "text/plain": [
       "     0   1    2    3\n",
       "0  184  13  118  155\n",
       "1   78   1   21   96\n",
       "2   17   0    2   40\n",
       "3    3   0    0   26"
      ]
     },
     "execution_count": 67,
     "metadata": {},
     "output_type": "execute_result"
    }
   ],
   "source": [
    "# Display the confusion matrix\n",
    "from sklearn.metrics import confusion_matrix, classification_report \n",
    "\n",
    "matrix = confusion_matrix(y_test, predictions)\n",
    "cm_df = pd.DataFrame(\n",
    "    matrix)\n",
    "cm_df"
   ]
  },
  {
   "cell_type": "code",
   "execution_count": 68,
   "id": "e06d2128",
   "metadata": {
    "scrolled": true
   },
   "outputs": [
    {
     "name": "stdout",
     "output_type": "stream",
     "text": [
      "                   pre       rec       spe        f1       geo       iba       sup\n",
      "\n",
      "          0       0.65      0.39      0.65      0.49      0.51      0.25       470\n",
      "          1       0.07      0.01      0.98      0.01      0.07      0.00       196\n",
      "          2       0.01      0.03      0.80      0.02      0.16      0.03        59\n",
      "          3       0.08      0.90      0.60      0.15      0.73      0.55        29\n",
      "\n",
      "avg / total       0.43      0.28      0.75      0.31      0.38      0.18       754\n",
      "\n"
     ]
    }
   ],
   "source": [
    "# Print the imbalanced classification report\n",
    "print(classification_report_imbalanced(y_test, predictions))"
   ]
  },
  {
   "cell_type": "code",
   "execution_count": null,
   "id": "eb381069",
   "metadata": {},
   "outputs": [],
   "source": []
  }
 ],
 "metadata": {
  "kernelspec": {
   "display_name": "mlenv",
   "language": "python",
   "name": "mlenv"
  },
  "language_info": {
   "codemirror_mode": {
    "name": "ipython",
    "version": 3
   },
   "file_extension": ".py",
   "mimetype": "text/x-python",
   "name": "python",
   "nbconvert_exporter": "python",
   "pygments_lexer": "ipython3",
   "version": "3.7.11"
  }
 },
 "nbformat": 4,
 "nbformat_minor": 5
}
